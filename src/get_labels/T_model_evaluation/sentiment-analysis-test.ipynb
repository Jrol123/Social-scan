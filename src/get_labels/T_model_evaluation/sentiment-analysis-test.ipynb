{
 "cells": [
  {
   "cell_type": "markdown",
   "metadata": {
    "id": "yboOQ0xeM-3j"
   },
   "source": [
    "## Разметка датасета"
   ]
  },
  {
   "cell_type": "code",
   "execution_count": null,
   "metadata": {
    "colab": {
     "base_uri": "https://localhost:8080/",
     "height": 423
    },
    "executionInfo": {
     "elapsed": 116,
     "status": "ok",
     "timestamp": 1744682818246,
     "user": {
      "displayName": "Qwerty Ytrewq",
      "userId": "15606734251668887822"
     },
     "user_tz": -600
    },
    "id": "M3yBX-Mc6mP4",
    "outputId": "f1a2483f-6296-446f-8a86-e8241c702b73",
    "trusted": true
   },
   "outputs": [],
   "source": [
    "import numpy as np\n",
    "import pandas as pd\n",
    "\n",
    "\n",
    "df = pd.read_csv(\"tg_messages_mriya.csv\", encoding=\"utf-8\")\n",
    "df"
   ]
  },
  {
   "cell_type": "code",
   "execution_count": null,
   "metadata": {
    "colab": {
     "base_uri": "https://localhost:8080/"
    },
    "executionInfo": {
     "elapsed": 5146,
     "status": "ok",
     "timestamp": 1744613447906,
     "user": {
      "displayName": "Qwerty Ytrewq",
      "userId": "15606734251668887822"
     },
     "user_tz": -600
    },
    "id": "hmm10xUJP4PZ",
    "outputId": "af350109-961b-42f1-c72f-783e628703ca",
    "trusted": true
   },
   "outputs": [],
   "source": [
    "labels = df['rating'].to_list()\n",
    "for i, line in df.iterrows():\n",
    "    if labels[i].is_integer() or line['text'] is np.nan:\n",
    "        continue\n",
    "\n",
    "    text = line['text']\n",
    "    print(i)\n",
    "    if len(text) > 100:\n",
    "        curlen = 0\n",
    "        for subtext in text.split(' '):\n",
    "            print(subtext, end=' ')\n",
    "            curlen += len(subtext)\n",
    "            if curlen > 100:\n",
    "                curlen = 0\n",
    "                print()\n",
    "    else:\n",
    "        print(text)\n",
    "\n",
    "    print('\\n')\n",
    "\n",
    "    try:\n",
    "        label = None\n",
    "        while label is None:\n",
    "            try:\n",
    "                label = int(input(\"Категория (0 - neutral, 1 - positive, 2 - negative):\\n\"))\n",
    "            except ValueError:\n",
    "                label = None\n",
    "    except:\n",
    "        break\n",
    "\n",
    "    labels[i] = label\n",
    "    print()\n",
    "\n",
    "df['rating'] = labels"
   ]
  },
  {
   "cell_type": "code",
   "execution_count": null,
   "metadata": {
    "colab": {
     "base_uri": "https://localhost:8080/",
     "height": 423
    },
    "executionInfo": {
     "elapsed": 38,
     "status": "ok",
     "timestamp": 1744612970998,
     "user": {
      "displayName": "Qwerty Ytrewq",
      "userId": "15606734251668887822"
     },
     "user_tz": -600
    },
    "id": "JCxyCRPZVEib",
    "outputId": "849e235d-d3c5-404c-ee42-fc25e6584a56",
    "trusted": true
   },
   "outputs": [],
   "source": [
    "df.loc[~df['rating'].isna(), ['text', 'rating']]"
   ]
  },
  {
   "cell_type": "code",
   "execution_count": null,
   "metadata": {
    "id": "4v0WeIAYm3-e",
    "trusted": true
   },
   "outputs": [],
   "source": [
    "df.dropna(axis=0, how='all').to_csv(\"tg_messages_mriya.csv\", index=False)"
   ]
  },
  {
   "cell_type": "markdown",
   "metadata": {
    "id": "aIIUEOoJQR87"
   },
   "source": [
    "## Предподготовка данных"
   ]
  },
  {
   "cell_type": "code",
   "execution_count": null,
   "metadata": {
    "colab": {
     "base_uri": "https://localhost:8080/",
     "height": 0
    },
    "execution": {
     "iopub.execute_input": "2025-04-22T05:18:29.595530Z",
     "iopub.status.busy": "2025-04-22T05:18:29.595167Z",
     "iopub.status.idle": "2025-04-22T05:18:29.903589Z",
     "shell.execute_reply": "2025-04-22T05:18:29.903025Z",
     "shell.execute_reply.started": "2025-04-22T05:18:29.595508Z"
    },
    "executionInfo": {
     "elapsed": 2517,
     "status": "ok",
     "timestamp": 1744888368343,
     "user": {
      "displayName": "Qwerty Ytrewq",
      "userId": "15606734251668887822"
     },
     "user_tz": -600
    },
    "id": "7U-by4aUM5Cd",
    "outputId": "a6ece26e-584c-4b85-b25e-6586905fe041",
    "trusted": true
   },
   "outputs": [],
   "source": [
    "import numpy as np\n",
    "import pandas as pd\n",
    "\n",
    "\n",
    "max_samples = 60000  # максимальное количество элементов в датасете\n",
    "\n",
    "def sample_dataset(df, sample_size):\n",
    "    proportions = df['label'].value_counts(normalize=True)\n",
    "    return (df.groupby('label')\n",
    "            .apply(lambda x: x.sample(round(sample_size*proportions[x.name]), random_state=42))\n",
    "            .reset_index(drop=True))\n",
    "\n",
    "\n",
    "test_datasets = {}\n",
    "df = pd.read_csv(\"/kaggle/input/russian-sentiment-analysis-test-dataset/tg_messages_mriya.csv\")\n",
    "test_datasets['tg_messages_mriya'] = df[['text', 'rating']].rename(columns={'rating': 'label'})\n",
    "test_datasets['tg_messages_mriya'].head()"
   ]
  },
  {
   "cell_type": "markdown",
   "metadata": {
    "id": "tZ4mwuNgRztN"
   },
   "source": [
    "### Sentiment of bank reviews"
   ]
  },
  {
   "cell_type": "code",
   "execution_count": null,
   "metadata": {
    "colab": {
     "base_uri": "https://localhost:8080/",
     "height": 0
    },
    "execution": {
     "iopub.execute_input": "2025-04-22T05:18:29.904843Z",
     "iopub.status.busy": "2025-04-22T05:18:29.904649Z",
     "iopub.status.idle": "2025-04-22T05:18:31.128134Z",
     "shell.execute_reply": "2025-04-22T05:18:31.127573Z",
     "shell.execute_reply.started": "2025-04-22T05:18:29.904828Z"
    },
    "executionInfo": {
     "elapsed": 1765,
     "status": "ok",
     "timestamp": 1744888370209,
     "user": {
      "displayName": "Qwerty Ytrewq",
      "userId": "15606734251668887822"
     },
     "user_tz": -600
    },
    "id": "U1R4Hf-jEUPz",
    "outputId": "8b3a64ed-703a-4e7a-f999-fca26ea1cd70",
    "trusted": true
   },
   "outputs": [
    {
     "data": {
      "text/html": [
       "<div>\n",
       "<style scoped>\n",
       "    .dataframe tbody tr th:only-of-type {\n",
       "        vertical-align: middle;\n",
       "    }\n",
       "\n",
       "    .dataframe tbody tr th {\n",
       "        vertical-align: top;\n",
       "    }\n",
       "\n",
       "    .dataframe thead th {\n",
       "        text-align: right;\n",
       "    }\n",
       "</style>\n",
       "<table border=\"1\" class=\"dataframe\">\n",
       "  <thead>\n",
       "    <tr style=\"text-align: right;\">\n",
       "      <th></th>\n",
       "      <th>idx</th>\n",
       "      <th>Score</th>\n",
       "      <th>Text</th>\n",
       "    </tr>\n",
       "  </thead>\n",
       "  <tbody>\n",
       "    <tr>\n",
       "      <th>0</th>\n",
       "      <td>0</td>\n",
       "      <td>Positive</td>\n",
       "      <td>В Альфа-Банке работает замечательная девушка -...</td>\n",
       "    </tr>\n",
       "    <tr>\n",
       "      <th>1</th>\n",
       "      <td>1</td>\n",
       "      <td>Negative</td>\n",
       "      <td>Оформляя рассрочку в м. Видео в меге тёплый ст...</td>\n",
       "    </tr>\n",
       "    <tr>\n",
       "      <th>2</th>\n",
       "      <td>2</td>\n",
       "      <td>Positive</td>\n",
       "      <td>Очень порадовала оперативность работы в банке....</td>\n",
       "    </tr>\n",
       "    <tr>\n",
       "      <th>3</th>\n",
       "      <td>3</td>\n",
       "      <td>Negative</td>\n",
       "      <td>Имела неосторожность оформить потреб. кредит в...</td>\n",
       "    </tr>\n",
       "    <tr>\n",
       "      <th>4</th>\n",
       "      <td>4</td>\n",
       "      <td>Negative</td>\n",
       "      <td>Небольшая предыстория: Нашел на сайте MDM банк...</td>\n",
       "    </tr>\n",
       "  </tbody>\n",
       "</table>\n",
       "</div>"
      ],
      "text/plain": [
       "   idx     Score                                               Text\n",
       "0    0  Positive  В Альфа-Банке работает замечательная девушка -...\n",
       "1    1  Negative  Оформляя рассрочку в м. Видео в меге тёплый ст...\n",
       "2    2  Positive  Очень порадовала оперативность работы в банке....\n",
       "3    3  Negative  Имела неосторожность оформить потреб. кредит в...\n",
       "4    4  Negative  Небольшая предыстория: Нашел на сайте MDM банк..."
      ]
     },
     "execution_count": 2,
     "metadata": {},
     "output_type": "execute_result"
    }
   ],
   "source": [
    "df = pd.read_csv(\"/kaggle/input/russian-sentiment-analysis-test-dataset/sentiment_of_bank_reviews.csv\", sep='\\t')\n",
    "df.head()"
   ]
  },
  {
   "cell_type": "code",
   "execution_count": null,
   "metadata": {
    "colab": {
     "base_uri": "https://localhost:8080/",
     "height": 0
    },
    "execution": {
     "iopub.execute_input": "2025-04-22T05:18:31.129080Z",
     "iopub.status.busy": "2025-04-22T05:18:31.128822Z",
     "iopub.status.idle": "2025-04-22T05:18:31.138127Z",
     "shell.execute_reply": "2025-04-22T05:18:31.137587Z",
     "shell.execute_reply.started": "2025-04-22T05:18:31.129062Z"
    },
    "executionInfo": {
     "elapsed": 9,
     "status": "ok",
     "timestamp": 1744888370222,
     "user": {
      "displayName": "Qwerty Ytrewq",
      "userId": "15606734251668887822"
     },
     "user_tz": -600
    },
    "id": "_IwJrTUSQ1qN",
    "outputId": "6030b1b6-b0ab-4a50-b6ab-9cf2fbfbcd35",
    "trusted": true
   },
   "outputs": [
    {
     "data": {
      "text/plain": [
       "Score\n",
       "Positive    7000\n",
       "Negative    6999\n",
       "Name: count, dtype: int64"
      ]
     },
     "execution_count": 3,
     "metadata": {},
     "output_type": "execute_result"
    }
   ],
   "source": [
    "df['Score'].value_counts()"
   ]
  },
  {
   "cell_type": "code",
   "execution_count": null,
   "metadata": {
    "colab": {
     "base_uri": "https://localhost:8080/",
     "height": 0
    },
    "execution": {
     "iopub.execute_input": "2025-04-22T05:18:31.140221Z",
     "iopub.status.busy": "2025-04-22T05:18:31.140028Z",
     "iopub.status.idle": "2025-04-22T05:18:31.161969Z",
     "shell.execute_reply": "2025-04-22T05:18:31.161441Z",
     "shell.execute_reply.started": "2025-04-22T05:18:31.140205Z"
    },
    "executionInfo": {
     "elapsed": 109,
     "status": "ok",
     "timestamp": 1744888370333,
     "user": {
      "displayName": "Qwerty Ytrewq",
      "userId": "15606734251668887822"
     },
     "user_tz": -600
    },
    "id": "6wVM5K_XPOCj",
    "outputId": "ebee9033-0628-4892-8771-42d2c9041247",
    "trusted": true
   },
   "outputs": [
    {
     "data": {
      "text/html": [
       "<div>\n",
       "<style scoped>\n",
       "    .dataframe tbody tr th:only-of-type {\n",
       "        vertical-align: middle;\n",
       "    }\n",
       "\n",
       "    .dataframe tbody tr th {\n",
       "        vertical-align: top;\n",
       "    }\n",
       "\n",
       "    .dataframe thead th {\n",
       "        text-align: right;\n",
       "    }\n",
       "</style>\n",
       "<table border=\"1\" class=\"dataframe\">\n",
       "  <thead>\n",
       "    <tr style=\"text-align: right;\">\n",
       "      <th></th>\n",
       "      <th>text</th>\n",
       "      <th>label</th>\n",
       "    </tr>\n",
       "  </thead>\n",
       "  <tbody>\n",
       "    <tr>\n",
       "      <th>0</th>\n",
       "      <td>В Альфа-Банке работает замечательная девушка -...</td>\n",
       "      <td>1</td>\n",
       "    </tr>\n",
       "    <tr>\n",
       "      <th>1</th>\n",
       "      <td>Оформляя рассрочку в м. Видео в меге тёплый ст...</td>\n",
       "      <td>2</td>\n",
       "    </tr>\n",
       "    <tr>\n",
       "      <th>2</th>\n",
       "      <td>Очень порадовала оперативность работы в банке....</td>\n",
       "      <td>1</td>\n",
       "    </tr>\n",
       "    <tr>\n",
       "      <th>3</th>\n",
       "      <td>Имела неосторожность оформить потреб. кредит в...</td>\n",
       "      <td>2</td>\n",
       "    </tr>\n",
       "    <tr>\n",
       "      <th>4</th>\n",
       "      <td>Небольшая предыстория: Нашел на сайте MDM банк...</td>\n",
       "      <td>2</td>\n",
       "    </tr>\n",
       "  </tbody>\n",
       "</table>\n",
       "</div>"
      ],
      "text/plain": [
       "                                                text  label\n",
       "0  В Альфа-Банке работает замечательная девушка -...      1\n",
       "1  Оформляя рассрочку в м. Видео в меге тёплый ст...      2\n",
       "2  Очень порадовала оперативность работы в банке....      1\n",
       "3  Имела неосторожность оформить потреб. кредит в...      2\n",
       "4  Небольшая предыстория: Нашел на сайте MDM банк...      2"
      ]
     },
     "execution_count": 4,
     "metadata": {},
     "output_type": "execute_result"
    }
   ],
   "source": [
    "df = df[['Text', 'Score']].rename(columns={'Text': 'text', 'Score': 'label'})\n",
    "label_repl = {'Negative': 2, 'Positive': 1}\n",
    "df['label'] = df['label'].apply(lambda x: label_repl[x])\n",
    "\n",
    "test_datasets['sentiment_of_bank_reviews'] = df\n",
    "test_datasets['sentiment_of_bank_reviews'].head()"
   ]
  },
  {
   "cell_type": "markdown",
   "metadata": {
    "id": "kjOk0lhxSCoR"
   },
   "source": [
    "### RuTweetCorp"
   ]
  },
  {
   "cell_type": "code",
   "execution_count": null,
   "metadata": {
    "colab": {
     "base_uri": "https://localhost:8080/",
     "height": 0
    },
    "execution": {
     "iopub.execute_input": "2025-04-22T05:18:31.162797Z",
     "iopub.status.busy": "2025-04-22T05:18:31.162583Z",
     "iopub.status.idle": "2025-04-22T05:18:32.683885Z",
     "shell.execute_reply": "2025-04-22T05:18:32.683158Z",
     "shell.execute_reply.started": "2025-04-22T05:18:31.162771Z"
    },
    "executionInfo": {
     "elapsed": 2331,
     "status": "ok",
     "timestamp": 1744888372666,
     "user": {
      "displayName": "Qwerty Ytrewq",
      "userId": "15606734251668887822"
     },
     "user_tz": -600
    },
    "id": "OwlyuemqOTq6",
    "outputId": "60a1a36c-05c2-40ad-d486-4859f8826361",
    "trusted": true
   },
   "outputs": [
    {
     "data": {
      "text/html": [
       "<div>\n",
       "<style scoped>\n",
       "    .dataframe tbody tr th:only-of-type {\n",
       "        vertical-align: middle;\n",
       "    }\n",
       "\n",
       "    .dataframe tbody tr th {\n",
       "        vertical-align: top;\n",
       "    }\n",
       "\n",
       "    .dataframe thead th {\n",
       "        text-align: right;\n",
       "    }\n",
       "</style>\n",
       "<table border=\"1\" class=\"dataframe\">\n",
       "  <thead>\n",
       "    <tr style=\"text-align: right;\">\n",
       "      <th></th>\n",
       "      <th>id</th>\n",
       "      <th>tdate</th>\n",
       "      <th>tname</th>\n",
       "      <th>ttext</th>\n",
       "      <th>ttype</th>\n",
       "      <th>trep</th>\n",
       "      <th>trtw</th>\n",
       "      <th>tfav</th>\n",
       "      <th>tstcount</th>\n",
       "      <th>tfoll</th>\n",
       "      <th>tfrien</th>\n",
       "      <th>listcount</th>\n",
       "    </tr>\n",
       "  </thead>\n",
       "  <tbody>\n",
       "    <tr>\n",
       "      <th>0</th>\n",
       "      <td>408906692374446080</td>\n",
       "      <td>1386325927</td>\n",
       "      <td>pleease_shut_up</td>\n",
       "      <td>@first_timee хоть я и школота, но поверь, у на...</td>\n",
       "      <td>1</td>\n",
       "      <td>0</td>\n",
       "      <td>0</td>\n",
       "      <td>0</td>\n",
       "      <td>7569</td>\n",
       "      <td>62</td>\n",
       "      <td>61</td>\n",
       "      <td>0</td>\n",
       "    </tr>\n",
       "    <tr>\n",
       "      <th>1</th>\n",
       "      <td>408906692693221377</td>\n",
       "      <td>1386325927</td>\n",
       "      <td>alinakirpicheva</td>\n",
       "      <td>Да, все-таки он немного похож на него. Но мой ...</td>\n",
       "      <td>1</td>\n",
       "      <td>0</td>\n",
       "      <td>0</td>\n",
       "      <td>0</td>\n",
       "      <td>11825</td>\n",
       "      <td>59</td>\n",
       "      <td>31</td>\n",
       "      <td>2</td>\n",
       "    </tr>\n",
       "    <tr>\n",
       "      <th>2</th>\n",
       "      <td>408906695083954177</td>\n",
       "      <td>1386325927</td>\n",
       "      <td>EvgeshaRe</td>\n",
       "      <td>RT @KatiaCheh: Ну ты идиотка) я испугалась за ...</td>\n",
       "      <td>1</td>\n",
       "      <td>0</td>\n",
       "      <td>1</td>\n",
       "      <td>0</td>\n",
       "      <td>1273</td>\n",
       "      <td>26</td>\n",
       "      <td>27</td>\n",
       "      <td>0</td>\n",
       "    </tr>\n",
       "    <tr>\n",
       "      <th>3</th>\n",
       "      <td>408906695356973056</td>\n",
       "      <td>1386325927</td>\n",
       "      <td>ikonnikova_21</td>\n",
       "      <td>RT @digger2912: \"Кто то в углу сидит и погибае...</td>\n",
       "      <td>1</td>\n",
       "      <td>0</td>\n",
       "      <td>1</td>\n",
       "      <td>0</td>\n",
       "      <td>1549</td>\n",
       "      <td>19</td>\n",
       "      <td>17</td>\n",
       "      <td>0</td>\n",
       "    </tr>\n",
       "    <tr>\n",
       "      <th>4</th>\n",
       "      <td>408906761416867842</td>\n",
       "      <td>1386325943</td>\n",
       "      <td>JumpyAlex</td>\n",
       "      <td>@irina_dyshkant Вот что значит страшилка :D\\nН...</td>\n",
       "      <td>1</td>\n",
       "      <td>0</td>\n",
       "      <td>0</td>\n",
       "      <td>0</td>\n",
       "      <td>597</td>\n",
       "      <td>16</td>\n",
       "      <td>23</td>\n",
       "      <td>1</td>\n",
       "    </tr>\n",
       "  </tbody>\n",
       "</table>\n",
       "</div>"
      ],
      "text/plain": [
       "                   id       tdate            tname  \\\n",
       "0  408906692374446080  1386325927  pleease_shut_up   \n",
       "1  408906692693221377  1386325927  alinakirpicheva   \n",
       "2  408906695083954177  1386325927        EvgeshaRe   \n",
       "3  408906695356973056  1386325927    ikonnikova_21   \n",
       "4  408906761416867842  1386325943        JumpyAlex   \n",
       "\n",
       "                                               ttext  ttype  trep  trtw  tfav  \\\n",
       "0  @first_timee хоть я и школота, но поверь, у на...      1     0     0     0   \n",
       "1  Да, все-таки он немного похож на него. Но мой ...      1     0     0     0   \n",
       "2  RT @KatiaCheh: Ну ты идиотка) я испугалась за ...      1     0     1     0   \n",
       "3  RT @digger2912: \"Кто то в углу сидит и погибае...      1     0     1     0   \n",
       "4  @irina_dyshkant Вот что значит страшилка :D\\nН...      1     0     0     0   \n",
       "\n",
       "   tstcount  tfoll  tfrien  listcount  \n",
       "0      7569     62      61          0  \n",
       "1     11825     59      31          2  \n",
       "2      1273     26      27          0  \n",
       "3      1549     19      17          0  \n",
       "4       597     16      23          1  "
      ]
     },
     "execution_count": 5,
     "metadata": {},
     "output_type": "execute_result"
    }
   ],
   "source": [
    "df_pos = pd.read_csv('/kaggle/input/russian-sentiment-analysis-test-dataset/RuTweetCorp_positive.csv')\n",
    "df_neg = pd.read_csv('/kaggle/input/russian-sentiment-analysis-test-dataset/RuTweetCorp_negative.csv')\n",
    "df_pos.head()"
   ]
  },
  {
   "cell_type": "code",
   "execution_count": null,
   "metadata": {
    "colab": {
     "base_uri": "https://localhost:8080/",
     "height": 0
    },
    "execution": {
     "iopub.execute_input": "2025-04-22T05:18:32.685005Z",
     "iopub.status.busy": "2025-04-22T05:18:32.684706Z",
     "iopub.status.idle": "2025-04-22T05:18:32.794538Z",
     "shell.execute_reply": "2025-04-22T05:18:32.793928Z",
     "shell.execute_reply.started": "2025-04-22T05:18:32.684988Z"
    },
    "executionInfo": {
     "elapsed": 363,
     "status": "ok",
     "timestamp": 1744888373033,
     "user": {
      "displayName": "Qwerty Ytrewq",
      "userId": "15606734251668887822"
     },
     "user_tz": -600
    },
    "id": "FqqsylNGSx1k",
    "outputId": "b2cd99ee-0640-4806-f515-3625cb6f8eeb",
    "trusted": true
   },
   "outputs": [
    {
     "data": {
      "text/html": [
       "<div>\n",
       "<style scoped>\n",
       "    .dataframe tbody tr th:only-of-type {\n",
       "        vertical-align: middle;\n",
       "    }\n",
       "\n",
       "    .dataframe tbody tr th {\n",
       "        vertical-align: top;\n",
       "    }\n",
       "\n",
       "    .dataframe thead th {\n",
       "        text-align: right;\n",
       "    }\n",
       "</style>\n",
       "<table border=\"1\" class=\"dataframe\">\n",
       "  <thead>\n",
       "    <tr style=\"text-align: right;\">\n",
       "      <th></th>\n",
       "      <th>text</th>\n",
       "      <th>label</th>\n",
       "    </tr>\n",
       "  </thead>\n",
       "  <tbody>\n",
       "    <tr>\n",
       "      <th>0</th>\n",
       "      <td>день как всегда поминутно был распланирован и ...</td>\n",
       "      <td>1</td>\n",
       "    </tr>\n",
       "    <tr>\n",
       "      <th>1</th>\n",
       "      <td>Лунный медведь вслух читает сказки… Не такой п...</td>\n",
       "      <td>1</td>\n",
       "    </tr>\n",
       "    <tr>\n",
       "      <th>2</th>\n",
       "      <td>@ekantu да уж!!видно это синдром только что пр...</td>\n",
       "      <td>1</td>\n",
       "    </tr>\n",
       "    <tr>\n",
       "      <th>3</th>\n",
       "      <td>Сегодня мне надо сразу кучу всего сделать, а м...</td>\n",
       "      <td>2</td>\n",
       "    </tr>\n",
       "    <tr>\n",
       "      <th>4</th>\n",
       "      <td>В один день поругалась почти со всеми.. А с ут...</td>\n",
       "      <td>2</td>\n",
       "    </tr>\n",
       "  </tbody>\n",
       "</table>\n",
       "</div>"
      ],
      "text/plain": [
       "                                                text  label\n",
       "0  день как всегда поминутно был распланирован и ...      1\n",
       "1  Лунный медведь вслух читает сказки… Не такой п...      1\n",
       "2  @ekantu да уж!!видно это синдром только что пр...      1\n",
       "3  Сегодня мне надо сразу кучу всего сделать, а м...      2\n",
       "4  В один день поругалась почти со всеми.. А с ут...      2"
      ]
     },
     "execution_count": 6,
     "metadata": {},
     "output_type": "execute_result"
    }
   ],
   "source": [
    "df_pos = pd.concat([df_pos[['ttext']], pd.DataFrame({'label': [1] * len(df_pos)})], axis=1)\n",
    "df_neg = pd.concat([df_neg[['ttext']], pd.DataFrame({'label': [2] * len(df_neg)})], axis=1)\n",
    "df = pd.concat([df_pos, df_neg], axis=0).rename(columns={'ttext': 'text'})\n",
    "df = df.sample(frac=1).reset_index(drop=True)\n",
    "\n",
    "test_datasets['rutweetcorp'] = df\n",
    "test_datasets['rutweetcorp'].head()"
   ]
  },
  {
   "cell_type": "code",
   "execution_count": null,
   "metadata": {
    "colab": {
     "base_uri": "https://localhost:8080/",
     "height": 0
    },
    "execution": {
     "iopub.execute_input": "2025-04-22T05:18:32.795364Z",
     "iopub.status.busy": "2025-04-22T05:18:32.795184Z",
     "iopub.status.idle": "2025-04-22T05:18:32.805018Z",
     "shell.execute_reply": "2025-04-22T05:18:32.804238Z",
     "shell.execute_reply.started": "2025-04-22T05:18:32.795349Z"
    },
    "executionInfo": {
     "elapsed": 97,
     "status": "ok",
     "timestamp": 1744888373132,
     "user": {
      "displayName": "Qwerty Ytrewq",
      "userId": "15606734251668887822"
     },
     "user_tz": -600
    },
    "id": "TR6__SC__tr8",
    "outputId": "ed007d90-bbdd-410f-d909-f5fff1430630",
    "trusted": true
   },
   "outputs": [
    {
     "data": {
      "text/plain": [
       "label\n",
       "1    114911\n",
       "2    111923\n",
       "Name: count, dtype: int64"
      ]
     },
     "execution_count": 7,
     "metadata": {},
     "output_type": "execute_result"
    }
   ],
   "source": [
    "test_datasets['rutweetcorp']['label'].value_counts()"
   ]
  },
  {
   "cell_type": "code",
   "execution_count": null,
   "metadata": {
    "colab": {
     "base_uri": "https://localhost:8080/",
     "height": 0
    },
    "execution": {
     "iopub.execute_input": "2025-04-22T05:18:32.806187Z",
     "iopub.status.busy": "2025-04-22T05:18:32.805891Z",
     "iopub.status.idle": "2025-04-22T05:18:32.858852Z",
     "shell.execute_reply": "2025-04-22T05:18:32.858150Z",
     "shell.execute_reply.started": "2025-04-22T05:18:32.806159Z"
    },
    "executionInfo": {
     "elapsed": 228,
     "status": "ok",
     "timestamp": 1744888373362,
     "user": {
      "displayName": "Qwerty Ytrewq",
      "userId": "15606734251668887822"
     },
     "user_tz": -600
    },
    "id": "776Y644rA3Ia",
    "outputId": "17c9ca03-51b1-4d71-ae00-87da921cc0d5",
    "trusted": true
   },
   "outputs": [
    {
     "name": "stderr",
     "output_type": "stream",
     "text": [
      "/tmp/ipykernel_31/2383192684.py:10: DeprecationWarning: DataFrameGroupBy.apply operated on the grouping columns. This behavior is deprecated, and in a future version of pandas the grouping columns will be excluded from the operation. Either pass `include_groups=False` to exclude the groupings or explicitly select the grouping columns after groupby to silence this warning.\n",
      "  .apply(lambda x: x.sample(round(sample_size*proportions[x.name]), random_state=42))\n"
     ]
    },
    {
     "data": {
      "text/plain": [
       "label\n",
       "1    30395\n",
       "2    29605\n",
       "Name: count, dtype: int64"
      ]
     },
     "execution_count": 8,
     "metadata": {},
     "output_type": "execute_result"
    }
   ],
   "source": [
    "test_datasets['rutweetcorp'] = sample_dataset(test_datasets['rutweetcorp'], max_samples)\n",
    "test_datasets['rutweetcorp']['label'].value_counts()"
   ]
  },
  {
   "cell_type": "markdown",
   "metadata": {
    "id": "UIlyN0a8USS8"
   },
   "source": [
    "### RuReviews"
   ]
  },
  {
   "cell_type": "code",
   "execution_count": null,
   "metadata": {
    "colab": {
     "base_uri": "https://localhost:8080/",
     "height": 0
    },
    "execution": {
     "iopub.execute_input": "2025-04-22T05:18:32.860387Z",
     "iopub.status.busy": "2025-04-22T05:18:32.859675Z",
     "iopub.status.idle": "2025-04-22T05:18:33.523774Z",
     "shell.execute_reply": "2025-04-22T05:18:33.522969Z",
     "shell.execute_reply.started": "2025-04-22T05:18:32.860363Z"
    },
    "executionInfo": {
     "elapsed": 1648,
     "status": "ok",
     "timestamp": 1744888375013,
     "user": {
      "displayName": "Qwerty Ytrewq",
      "userId": "15606734251668887822"
     },
     "user_tz": -600
    },
    "id": "wQMz_3gSSIcj",
    "outputId": "b0e271a4-624d-4e2b-ef1b-cd231e53e843",
    "trusted": true
   },
   "outputs": [
    {
     "data": {
      "text/html": [
       "<div>\n",
       "<style scoped>\n",
       "    .dataframe tbody tr th:only-of-type {\n",
       "        vertical-align: middle;\n",
       "    }\n",
       "\n",
       "    .dataframe tbody tr th {\n",
       "        vertical-align: top;\n",
       "    }\n",
       "\n",
       "    .dataframe thead th {\n",
       "        text-align: right;\n",
       "    }\n",
       "</style>\n",
       "<table border=\"1\" class=\"dataframe\">\n",
       "  <thead>\n",
       "    <tr style=\"text-align: right;\">\n",
       "      <th></th>\n",
       "      <th>review</th>\n",
       "      <th>sentiment</th>\n",
       "    </tr>\n",
       "  </thead>\n",
       "  <tbody>\n",
       "    <tr>\n",
       "      <th>0</th>\n",
       "      <td>качество плохое пошив ужасный (горловина напер...</td>\n",
       "      <td>negative</td>\n",
       "    </tr>\n",
       "    <tr>\n",
       "      <th>1</th>\n",
       "      <td>Товар отдали другому человеку, я не получила п...</td>\n",
       "      <td>negative</td>\n",
       "    </tr>\n",
       "    <tr>\n",
       "      <th>2</th>\n",
       "      <td>Ужасная синтетика! Тонкая, ничего общего с пре...</td>\n",
       "      <td>negative</td>\n",
       "    </tr>\n",
       "    <tr>\n",
       "      <th>3</th>\n",
       "      <td>товар не пришел, продавец продлил защиту без м...</td>\n",
       "      <td>negative</td>\n",
       "    </tr>\n",
       "    <tr>\n",
       "      <th>4</th>\n",
       "      <td>Кофточка голая синтетика, носить не возможно.</td>\n",
       "      <td>negative</td>\n",
       "    </tr>\n",
       "  </tbody>\n",
       "</table>\n",
       "</div>"
      ],
      "text/plain": [
       "                                              review sentiment\n",
       "0  качество плохое пошив ужасный (горловина напер...  negative\n",
       "1  Товар отдали другому человеку, я не получила п...  negative\n",
       "2  Ужасная синтетика! Тонкая, ничего общего с пре...  negative\n",
       "3  товар не пришел, продавец продлил защиту без м...  negative\n",
       "4      Кофточка голая синтетика, носить не возможно.  negative"
      ]
     },
     "execution_count": 9,
     "metadata": {},
     "output_type": "execute_result"
    }
   ],
   "source": [
    "df = pd.read_csv('/kaggle/input/russian-sentiment-analysis-test-dataset/rureviews.csv', sep='\\t')\n",
    "df.head()"
   ]
  },
  {
   "cell_type": "code",
   "execution_count": null,
   "metadata": {
    "colab": {
     "base_uri": "https://localhost:8080/",
     "height": 0
    },
    "execution": {
     "iopub.execute_input": "2025-04-22T05:18:33.526711Z",
     "iopub.status.busy": "2025-04-22T05:18:33.526456Z",
     "iopub.status.idle": "2025-04-22T05:18:33.537087Z",
     "shell.execute_reply": "2025-04-22T05:18:33.536237Z",
     "shell.execute_reply.started": "2025-04-22T05:18:33.526693Z"
    },
    "executionInfo": {
     "elapsed": 8,
     "status": "ok",
     "timestamp": 1744888375024,
     "user": {
      "displayName": "Qwerty Ytrewq",
      "userId": "15606734251668887822"
     },
     "user_tz": -600
    },
    "id": "hXPNz_YzU5c2",
    "outputId": "c5f2289b-e04a-48a4-9b22-ff12fa0571d3",
    "trusted": true
   },
   "outputs": [
    {
     "data": {
      "text/plain": [
       "sentiment\n",
       "negative    30000\n",
       "neautral    30000\n",
       "positive    30000\n",
       "Name: count, dtype: int64"
      ]
     },
     "execution_count": 10,
     "metadata": {},
     "output_type": "execute_result"
    }
   ],
   "source": [
    "df['sentiment'].value_counts()"
   ]
  },
  {
   "cell_type": "code",
   "execution_count": null,
   "metadata": {
    "colab": {
     "base_uri": "https://localhost:8080/",
     "height": 0
    },
    "execution": {
     "iopub.execute_input": "2025-04-22T05:18:33.538278Z",
     "iopub.status.busy": "2025-04-22T05:18:33.537836Z",
     "iopub.status.idle": "2025-04-22T05:18:33.600056Z",
     "shell.execute_reply": "2025-04-22T05:18:33.599223Z",
     "shell.execute_reply.started": "2025-04-22T05:18:33.538257Z"
    },
    "executionInfo": {
     "elapsed": 136,
     "status": "ok",
     "timestamp": 1744888375162,
     "user": {
      "displayName": "Qwerty Ytrewq",
      "userId": "15606734251668887822"
     },
     "user_tz": -600
    },
    "id": "fcL7hmyHU-Zb",
    "outputId": "e2510347-8eba-4cb0-82d8-a169971fcb79",
    "trusted": true
   },
   "outputs": [
    {
     "data": {
      "text/html": [
       "<div>\n",
       "<style scoped>\n",
       "    .dataframe tbody tr th:only-of-type {\n",
       "        vertical-align: middle;\n",
       "    }\n",
       "\n",
       "    .dataframe tbody tr th {\n",
       "        vertical-align: top;\n",
       "    }\n",
       "\n",
       "    .dataframe thead th {\n",
       "        text-align: right;\n",
       "    }\n",
       "</style>\n",
       "<table border=\"1\" class=\"dataframe\">\n",
       "  <thead>\n",
       "    <tr style=\"text-align: right;\">\n",
       "      <th></th>\n",
       "      <th>text</th>\n",
       "      <th>label</th>\n",
       "    </tr>\n",
       "  </thead>\n",
       "  <tbody>\n",
       "    <tr>\n",
       "      <th>0</th>\n",
       "      <td>качество плохое пошив ужасный (горловина напер...</td>\n",
       "      <td>2</td>\n",
       "    </tr>\n",
       "    <tr>\n",
       "      <th>1</th>\n",
       "      <td>Товар отдали другому человеку, я не получила п...</td>\n",
       "      <td>2</td>\n",
       "    </tr>\n",
       "    <tr>\n",
       "      <th>2</th>\n",
       "      <td>Ужасная синтетика! Тонкая, ничего общего с пре...</td>\n",
       "      <td>2</td>\n",
       "    </tr>\n",
       "    <tr>\n",
       "      <th>3</th>\n",
       "      <td>товар не пришел, продавец продлил защиту без м...</td>\n",
       "      <td>2</td>\n",
       "    </tr>\n",
       "    <tr>\n",
       "      <th>4</th>\n",
       "      <td>Кофточка голая синтетика, носить не возможно.</td>\n",
       "      <td>2</td>\n",
       "    </tr>\n",
       "  </tbody>\n",
       "</table>\n",
       "</div>"
      ],
      "text/plain": [
       "                                                text  label\n",
       "0  качество плохое пошив ужасный (горловина напер...      2\n",
       "1  Товар отдали другому человеку, я не получила п...      2\n",
       "2  Ужасная синтетика! Тонкая, ничего общего с пре...      2\n",
       "3  товар не пришел, продавец продлил защиту без м...      2\n",
       "4      Кофточка голая синтетика, носить не возможно.      2"
      ]
     },
     "execution_count": 11,
     "metadata": {},
     "output_type": "execute_result"
    }
   ],
   "source": [
    "df = df.rename(columns={'review': 'text', 'sentiment': 'label'})\n",
    "label_repl = {'negative': 2, 'neautral': 0, 'positive': 1}\n",
    "df['label'] = df['label'].apply(lambda x: label_repl[x])\n",
    "\n",
    "test_datasets['rureviews'] = df\n",
    "test_datasets['rureviews'].head()"
   ]
  },
  {
   "cell_type": "code",
   "execution_count": null,
   "metadata": {
    "colab": {
     "base_uri": "https://localhost:8080/",
     "height": 0
    },
    "execution": {
     "iopub.execute_input": "2025-04-22T05:18:33.601215Z",
     "iopub.status.busy": "2025-04-22T05:18:33.600972Z",
     "iopub.status.idle": "2025-04-22T05:18:33.634367Z",
     "shell.execute_reply": "2025-04-22T05:18:33.633728Z",
     "shell.execute_reply.started": "2025-04-22T05:18:33.601189Z"
    },
    "executionInfo": {
     "elapsed": 100,
     "status": "ok",
     "timestamp": 1744888375264,
     "user": {
      "displayName": "Qwerty Ytrewq",
      "userId": "15606734251668887822"
     },
     "user_tz": -600
    },
    "id": "LXMyet4dCXS9",
    "outputId": "43aba0fb-f761-49ea-a6c9-e3423b7a4a14",
    "trusted": true
   },
   "outputs": [
    {
     "name": "stderr",
     "output_type": "stream",
     "text": [
      "/tmp/ipykernel_31/2383192684.py:10: DeprecationWarning: DataFrameGroupBy.apply operated on the grouping columns. This behavior is deprecated, and in a future version of pandas the grouping columns will be excluded from the operation. Either pass `include_groups=False` to exclude the groupings or explicitly select the grouping columns after groupby to silence this warning.\n",
      "  .apply(lambda x: x.sample(round(sample_size*proportions[x.name]), random_state=42))\n"
     ]
    },
    {
     "data": {
      "text/plain": [
       "label\n",
       "0    20000\n",
       "1    20000\n",
       "2    20000\n",
       "Name: count, dtype: int64"
      ]
     },
     "execution_count": 12,
     "metadata": {},
     "output_type": "execute_result"
    }
   ],
   "source": [
    "test_datasets['rureviews'] = sample_dataset(test_datasets['rureviews'], max_samples)\n",
    "test_datasets['rureviews']['label'].value_counts()"
   ]
  },
  {
   "cell_type": "markdown",
   "metadata": {
    "id": "9O-hpuNVV218"
   },
   "source": [
    "### RuSentiment"
   ]
  },
  {
   "cell_type": "code",
   "execution_count": null,
   "metadata": {
    "colab": {
     "base_uri": "https://localhost:8080/",
     "height": 0
    },
    "execution": {
     "iopub.execute_input": "2025-04-22T05:18:33.635700Z",
     "iopub.status.busy": "2025-04-22T05:18:33.635219Z",
     "iopub.status.idle": "2025-04-22T05:18:33.837442Z",
     "shell.execute_reply": "2025-04-22T05:18:33.836622Z",
     "shell.execute_reply.started": "2025-04-22T05:18:33.635676Z"
    },
    "executionInfo": {
     "elapsed": 159,
     "status": "ok",
     "timestamp": 1744888375425,
     "user": {
      "displayName": "Qwerty Ytrewq",
      "userId": "15606734251668887822"
     },
     "user_tz": -600
    },
    "id": "tV4bRPtAVzd9",
    "outputId": "ddb3f0f9-d715-451d-858c-d25f41f78f38",
    "trusted": true
   },
   "outputs": [
    {
     "data": {
      "text/html": [
       "<div>\n",
       "<style scoped>\n",
       "    .dataframe tbody tr th:only-of-type {\n",
       "        vertical-align: middle;\n",
       "    }\n",
       "\n",
       "    .dataframe tbody tr th {\n",
       "        vertical-align: top;\n",
       "    }\n",
       "\n",
       "    .dataframe thead th {\n",
       "        text-align: right;\n",
       "    }\n",
       "</style>\n",
       "<table border=\"1\" class=\"dataframe\">\n",
       "  <thead>\n",
       "    <tr style=\"text-align: right;\">\n",
       "      <th></th>\n",
       "      <th>text</th>\n",
       "      <th>label</th>\n",
       "    </tr>\n",
       "  </thead>\n",
       "  <tbody>\n",
       "    <tr>\n",
       "      <th>0</th>\n",
       "      <td>Прорвём информационную блокаду изнутри.</td>\n",
       "      <td>neutral</td>\n",
       "    </tr>\n",
       "    <tr>\n",
       "      <th>1</th>\n",
       "      <td>Никогда у меня не будет \"одного приложения для...</td>\n",
       "      <td>negative</td>\n",
       "    </tr>\n",
       "    <tr>\n",
       "      <th>2</th>\n",
       "      <td>Кури-и тебя не укусит злая собака, потому что ...</td>\n",
       "      <td>skip</td>\n",
       "    </tr>\n",
       "    <tr>\n",
       "      <th>3</th>\n",
       "      <td>Есть 3 типа людей:\\nУмные, которые делают все ...</td>\n",
       "      <td>neutral</td>\n",
       "    </tr>\n",
       "    <tr>\n",
       "      <th>4</th>\n",
       "      <td>мегафон чет накрыло</td>\n",
       "      <td>neutral</td>\n",
       "    </tr>\n",
       "  </tbody>\n",
       "</table>\n",
       "</div>"
      ],
      "text/plain": [
       "                                                text     label\n",
       "0           Прорвём информационную блокаду изнутри.    neutral\n",
       "1  Никогда у меня не будет \"одного приложения для...  negative\n",
       "2  Кури-и тебя не укусит злая собака, потому что ...      skip\n",
       "3  Есть 3 типа людей:\\nУмные, которые делают все ...   neutral\n",
       "4                                мегафон чет накрыло   neutral"
      ]
     },
     "execution_count": 13,
     "metadata": {},
     "output_type": "execute_result"
    }
   ],
   "source": [
    "df_preselected = pd.read_csv('/kaggle/input/russian-sentiment-analysis-test-dataset/rusentiment_preselected_posts.csv')\n",
    "df_random = pd.read_csv('/kaggle/input/russian-sentiment-analysis-test-dataset/rusentiment_random_posts.csv')\n",
    "df_test = pd.read_csv('/kaggle/input/russian-sentiment-analysis-test-dataset/rusentiment_test.csv')\n",
    "df = pd.concat([df_preselected, df_random, df_test], axis=0)[['text', 'label']]\n",
    "df.head()"
   ]
  },
  {
   "cell_type": "code",
   "execution_count": null,
   "metadata": {
    "colab": {
     "base_uri": "https://localhost:8080/",
     "height": 0
    },
    "execution": {
     "iopub.execute_input": "2025-04-22T05:18:33.839892Z",
     "iopub.status.busy": "2025-04-22T05:18:33.838375Z",
     "iopub.status.idle": "2025-04-22T05:18:33.849346Z",
     "shell.execute_reply": "2025-04-22T05:18:33.848717Z",
     "shell.execute_reply.started": "2025-04-22T05:18:33.839869Z"
    },
    "executionInfo": {
     "elapsed": 74,
     "status": "ok",
     "timestamp": 1744888375501,
     "user": {
      "displayName": "Qwerty Ytrewq",
      "userId": "15606734251668887822"
     },
     "user_tz": -600
    },
    "id": "zE6R0p1NWUAY",
    "outputId": "249b14d2-ecf6-4937-8378-c33a628a5333",
    "trusted": true
   },
   "outputs": [
    {
     "data": {
      "text/plain": [
       "label\n",
       "neutral     12720\n",
       "positive     6646\n",
       "skip         4440\n",
       "negative     3912\n",
       "speech       3467\n",
       "Name: count, dtype: int64"
      ]
     },
     "execution_count": 14,
     "metadata": {},
     "output_type": "execute_result"
    }
   ],
   "source": [
    "df['label'].value_counts()"
   ]
  },
  {
   "cell_type": "code",
   "execution_count": null,
   "metadata": {
    "colab": {
     "base_uri": "https://localhost:8080/",
     "height": 0
    },
    "execution": {
     "iopub.execute_input": "2025-04-22T05:18:33.850309Z",
     "iopub.status.busy": "2025-04-22T05:18:33.850104Z",
     "iopub.status.idle": "2025-04-22T05:18:33.882285Z",
     "shell.execute_reply": "2025-04-22T05:18:33.881449Z",
     "shell.execute_reply.started": "2025-04-22T05:18:33.850294Z"
    },
    "executionInfo": {
     "elapsed": 100,
     "status": "ok",
     "timestamp": 1744888375603,
     "user": {
      "displayName": "Qwerty Ytrewq",
      "userId": "15606734251668887822"
     },
     "user_tz": -600
    },
    "id": "t0jtcUu7W4Pk",
    "outputId": "c9d8f432-219d-47e4-83c5-fa33edb3b3fd",
    "trusted": true
   },
   "outputs": [
    {
     "data": {
      "text/html": [
       "<div>\n",
       "<style scoped>\n",
       "    .dataframe tbody tr th:only-of-type {\n",
       "        vertical-align: middle;\n",
       "    }\n",
       "\n",
       "    .dataframe tbody tr th {\n",
       "        vertical-align: top;\n",
       "    }\n",
       "\n",
       "    .dataframe thead th {\n",
       "        text-align: right;\n",
       "    }\n",
       "</style>\n",
       "<table border=\"1\" class=\"dataframe\">\n",
       "  <thead>\n",
       "    <tr style=\"text-align: right;\">\n",
       "      <th></th>\n",
       "      <th>text</th>\n",
       "      <th>label</th>\n",
       "    </tr>\n",
       "  </thead>\n",
       "  <tbody>\n",
       "    <tr>\n",
       "      <th>0</th>\n",
       "      <td>Прорвём информационную блокаду изнутри.</td>\n",
       "      <td>0</td>\n",
       "    </tr>\n",
       "    <tr>\n",
       "      <th>1</th>\n",
       "      <td>Никогда у меня не будет \"одного приложения для...</td>\n",
       "      <td>2</td>\n",
       "    </tr>\n",
       "    <tr>\n",
       "      <th>2</th>\n",
       "      <td>Кури-и тебя не укусит злая собака, потому что ...</td>\n",
       "      <td>0</td>\n",
       "    </tr>\n",
       "    <tr>\n",
       "      <th>3</th>\n",
       "      <td>Есть 3 типа людей:\\nУмные, которые делают все ...</td>\n",
       "      <td>0</td>\n",
       "    </tr>\n",
       "    <tr>\n",
       "      <th>4</th>\n",
       "      <td>мегафон чет накрыло</td>\n",
       "      <td>0</td>\n",
       "    </tr>\n",
       "  </tbody>\n",
       "</table>\n",
       "</div>"
      ],
      "text/plain": [
       "                                                text  label\n",
       "0           Прорвём информационную блокаду изнутри.       0\n",
       "1  Никогда у меня не будет \"одного приложения для...      2\n",
       "2  Кури-и тебя не укусит злая собака, потому что ...      0\n",
       "3  Есть 3 типа людей:\\nУмные, которые делают все ...      0\n",
       "4                                мегафон чет накрыло      0"
      ]
     },
     "execution_count": 15,
     "metadata": {},
     "output_type": "execute_result"
    }
   ],
   "source": [
    "label_repl = {'neutral': 0, 'positive': 1, 'skip': 0, 'negative': 2, 'speech': 0}\n",
    "df['label'] = df['label'].apply(lambda x: label_repl[x])\n",
    "\n",
    "test_datasets['rusentiment'] = df\n",
    "test_datasets['rusentiment'] .head()"
   ]
  },
  {
   "cell_type": "markdown",
   "metadata": {
    "id": "BsZJc9VIXhVE"
   },
   "source": [
    "### ru_sentiment_MonoHime"
   ]
  },
  {
   "cell_type": "code",
   "execution_count": null,
   "metadata": {
    "colab": {
     "base_uri": "https://localhost:8080/",
     "height": 0
    },
    "execution": {
     "iopub.execute_input": "2025-04-22T05:18:33.883754Z",
     "iopub.status.busy": "2025-04-22T05:18:33.883136Z",
     "iopub.status.idle": "2025-04-22T05:18:42.083285Z",
     "shell.execute_reply": "2025-04-22T05:18:42.082674Z",
     "shell.execute_reply.started": "2025-04-22T05:18:33.883729Z"
    },
    "executionInfo": {
     "elapsed": 12665,
     "status": "ok",
     "timestamp": 1744888388270,
     "user": {
      "displayName": "Qwerty Ytrewq",
      "userId": "15606734251668887822"
     },
     "user_tz": -600
    },
    "id": "0mSQQf84Xfas",
    "outputId": "63b35960-6584-491b-efcd-ea56682e6f24",
    "trusted": true
   },
   "outputs": [
    {
     "data": {
      "text/html": [
       "<div>\n",
       "<style scoped>\n",
       "    .dataframe tbody tr th:only-of-type {\n",
       "        vertical-align: middle;\n",
       "    }\n",
       "\n",
       "    .dataframe tbody tr th {\n",
       "        vertical-align: top;\n",
       "    }\n",
       "\n",
       "    .dataframe thead th {\n",
       "        text-align: right;\n",
       "    }\n",
       "</style>\n",
       "<table border=\"1\" class=\"dataframe\">\n",
       "  <thead>\n",
       "    <tr style=\"text-align: right;\">\n",
       "      <th></th>\n",
       "      <th>text</th>\n",
       "      <th>sentiment</th>\n",
       "    </tr>\n",
       "  </thead>\n",
       "  <tbody>\n",
       "    <tr>\n",
       "      <th>43956</th>\n",
       "      <td>Развода на деньги нет\\nНаблюдаюсь в Лайфклиник...</td>\n",
       "      <td>1</td>\n",
       "    </tr>\n",
       "    <tr>\n",
       "      <th>17755</th>\n",
       "      <td>Отель выбрали потому что рядом со стадионом. О...</td>\n",
       "      <td>0</td>\n",
       "    </tr>\n",
       "    <tr>\n",
       "      <th>20269</th>\n",
       "      <td>Вылечили\\nГноился с рождения глазик, в поликли...</td>\n",
       "      <td>1</td>\n",
       "    </tr>\n",
       "    <tr>\n",
       "      <th>16648</th>\n",
       "      <td>Хорошее расположение.С вокзала дошли пешком.Но...</td>\n",
       "      <td>0</td>\n",
       "    </tr>\n",
       "    <tr>\n",
       "      <th>27879</th>\n",
       "      <td>Отличное месторасположение,прекрасный вид,особ...</td>\n",
       "      <td>1</td>\n",
       "    </tr>\n",
       "  </tbody>\n",
       "</table>\n",
       "</div>"
      ],
      "text/plain": [
       "                                                    text  sentiment\n",
       "43956  Развода на деньги нет\\nНаблюдаюсь в Лайфклиник...          1\n",
       "17755  Отель выбрали потому что рядом со стадионом. О...          0\n",
       "20269  Вылечили\\nГноился с рождения глазик, в поликли...          1\n",
       "16648  Хорошее расположение.С вокзала дошли пешком.Но...          0\n",
       "27879  Отличное месторасположение,прекрасный вид,особ...          1"
      ]
     },
     "execution_count": 16,
     "metadata": {},
     "output_type": "execute_result"
    }
   ],
   "source": [
    "df = pd.read_csv('/kaggle/input/russian-sentiment-analysis-test-dataset/ru_sentiment_monohime.csv', index_col=0)\n",
    "df.head()"
   ]
  },
  {
   "cell_type": "code",
   "execution_count": null,
   "metadata": {
    "colab": {
     "base_uri": "https://localhost:8080/",
     "height": 0
    },
    "execution": {
     "iopub.execute_input": "2025-04-22T05:18:42.084212Z",
     "iopub.status.busy": "2025-04-22T05:18:42.083967Z",
     "iopub.status.idle": "2025-04-22T05:18:42.091288Z",
     "shell.execute_reply": "2025-04-22T05:18:42.090540Z",
     "shell.execute_reply.started": "2025-04-22T05:18:42.084194Z"
    },
    "executionInfo": {
     "elapsed": 11,
     "status": "ok",
     "timestamp": 1744888388272,
     "user": {
      "displayName": "Qwerty Ytrewq",
      "userId": "15606734251668887822"
     },
     "user_tz": -600
    },
    "id": "1nhj_2_-abUT",
    "outputId": "2b65e34d-f454-45df-b4ce-72f366583a34",
    "trusted": true
   },
   "outputs": [
    {
     "data": {
      "text/plain": [
       "sentiment\n",
       "1    100792\n",
       "2     55310\n",
       "0     54887\n",
       "Name: count, dtype: int64"
      ]
     },
     "execution_count": 17,
     "metadata": {},
     "output_type": "execute_result"
    }
   ],
   "source": [
    "df['sentiment'].value_counts()"
   ]
  },
  {
   "cell_type": "code",
   "execution_count": null,
   "metadata": {
    "colab": {
     "base_uri": "https://localhost:8080/",
     "height": 0
    },
    "execution": {
     "iopub.execute_input": "2025-04-22T05:18:42.092366Z",
     "iopub.status.busy": "2025-04-22T05:18:42.092062Z",
     "iopub.status.idle": "2025-04-22T05:18:42.117334Z",
     "shell.execute_reply": "2025-04-22T05:18:42.116759Z",
     "shell.execute_reply.started": "2025-04-22T05:18:42.092341Z"
    },
    "executionInfo": {
     "elapsed": 112,
     "status": "ok",
     "timestamp": 1744888388379,
     "user": {
      "displayName": "Qwerty Ytrewq",
      "userId": "15606734251668887822"
     },
     "user_tz": -600
    },
    "id": "8WmaAFIScW1U",
    "outputId": "26a87fb1-b1c0-4e1c-85d1-549759153223",
    "trusted": true
   },
   "outputs": [
    {
     "data": {
      "text/html": [
       "<div>\n",
       "<style scoped>\n",
       "    .dataframe tbody tr th:only-of-type {\n",
       "        vertical-align: middle;\n",
       "    }\n",
       "\n",
       "    .dataframe tbody tr th {\n",
       "        vertical-align: top;\n",
       "    }\n",
       "\n",
       "    .dataframe thead th {\n",
       "        text-align: right;\n",
       "    }\n",
       "</style>\n",
       "<table border=\"1\" class=\"dataframe\">\n",
       "  <thead>\n",
       "    <tr style=\"text-align: right;\">\n",
       "      <th></th>\n",
       "      <th>text</th>\n",
       "      <th>label</th>\n",
       "    </tr>\n",
       "  </thead>\n",
       "  <tbody>\n",
       "    <tr>\n",
       "      <th>0</th>\n",
       "      <td>Развода на деньги нет\\nНаблюдаюсь в Лайфклиник...</td>\n",
       "      <td>1</td>\n",
       "    </tr>\n",
       "    <tr>\n",
       "      <th>1</th>\n",
       "      <td>Отель выбрали потому что рядом со стадионом. О...</td>\n",
       "      <td>0</td>\n",
       "    </tr>\n",
       "    <tr>\n",
       "      <th>2</th>\n",
       "      <td>Вылечили\\nГноился с рождения глазик, в поликли...</td>\n",
       "      <td>1</td>\n",
       "    </tr>\n",
       "    <tr>\n",
       "      <th>3</th>\n",
       "      <td>Хорошее расположение.С вокзала дошли пешком.Но...</td>\n",
       "      <td>0</td>\n",
       "    </tr>\n",
       "    <tr>\n",
       "      <th>4</th>\n",
       "      <td>Отличное месторасположение,прекрасный вид,особ...</td>\n",
       "      <td>1</td>\n",
       "    </tr>\n",
       "  </tbody>\n",
       "</table>\n",
       "</div>"
      ],
      "text/plain": [
       "                                                text  label\n",
       "0  Развода на деньги нет\\nНаблюдаюсь в Лайфклиник...      1\n",
       "1  Отель выбрали потому что рядом со стадионом. О...      0\n",
       "2  Вылечили\\nГноился с рождения глазик, в поликли...      1\n",
       "3  Хорошее расположение.С вокзала дошли пешком.Но...      0\n",
       "4  Отличное месторасположение,прекрасный вид,особ...      1"
      ]
     },
     "execution_count": 18,
     "metadata": {},
     "output_type": "execute_result"
    }
   ],
   "source": [
    "df = df.rename(columns={'sentiment': 'label'}).reset_index(drop=True)\n",
    "test_datasets['ru_sentiment_monohime'] = df\n",
    "test_datasets['ru_sentiment_monohime'].head()"
   ]
  },
  {
   "cell_type": "code",
   "execution_count": null,
   "metadata": {
    "colab": {
     "base_uri": "https://localhost:8080/",
     "height": 0
    },
    "execution": {
     "iopub.execute_input": "2025-04-22T05:18:42.118369Z",
     "iopub.status.busy": "2025-04-22T05:18:42.118131Z",
     "iopub.status.idle": "2025-04-22T05:18:42.169251Z",
     "shell.execute_reply": "2025-04-22T05:18:42.168592Z",
     "shell.execute_reply.started": "2025-04-22T05:18:42.118353Z"
    },
    "executionInfo": {
     "elapsed": 75,
     "status": "ok",
     "timestamp": 1744888388456,
     "user": {
      "displayName": "Qwerty Ytrewq",
      "userId": "15606734251668887822"
     },
     "user_tz": -600
    },
    "id": "7lWpheV7DhEl",
    "outputId": "af7834f7-e018-41e6-b30e-28a5444507cc",
    "trusted": true
   },
   "outputs": [
    {
     "name": "stderr",
     "output_type": "stream",
     "text": [
      "/tmp/ipykernel_31/2383192684.py:10: DeprecationWarning: DataFrameGroupBy.apply operated on the grouping columns. This behavior is deprecated, and in a future version of pandas the grouping columns will be excluded from the operation. Either pass `include_groups=False` to exclude the groupings or explicitly select the grouping columns after groupby to silence this warning.\n",
      "  .apply(lambda x: x.sample(round(sample_size*proportions[x.name]), random_state=42))\n"
     ]
    },
    {
     "data": {
      "text/plain": [
       "label\n",
       "1    28663\n",
       "2    15729\n",
       "0    15608\n",
       "Name: count, dtype: int64"
      ]
     },
     "execution_count": 19,
     "metadata": {},
     "output_type": "execute_result"
    }
   ],
   "source": [
    "test_datasets['ru_sentiment_monohime'] = sample_dataset(test_datasets['ru_sentiment_monohime'], max_samples)\n",
    "test_datasets['ru_sentiment_monohime']['label'].value_counts()"
   ]
  },
  {
   "cell_type": "code",
   "execution_count": null,
   "metadata": {
    "colab": {
     "base_uri": "https://localhost:8080/"
    },
    "execution": {
     "iopub.execute_input": "2025-04-22T05:18:42.170766Z",
     "iopub.status.busy": "2025-04-22T05:18:42.170034Z",
     "iopub.status.idle": "2025-04-22T05:18:42.183576Z",
     "shell.execute_reply": "2025-04-22T05:18:42.182827Z",
     "shell.execute_reply.started": "2025-04-22T05:18:42.170742Z"
    },
    "executionInfo": {
     "elapsed": 93,
     "status": "ok",
     "timestamp": 1744888388553,
     "user": {
      "displayName": "Qwerty Ytrewq",
      "userId": "15606734251668887822"
     },
     "user_tz": -600
    },
    "id": "6UzvKyPsc3yc",
    "outputId": "ffcdd6cd-aa35-4df5-a8a9-8be9d7c2f9b5",
    "trusted": true
   },
   "outputs": [
    {
     "data": {
      "text/plain": [
       "{'tg_messages_mriya':                                                   text  label\n",
       " 0                       Ну Мрия это ещё не весь Крым☺️      0\n",
       " 1                                  МРИЯ - это КОСМОС❤️      1\n",
       " 2    __🧑‍🚀 Поехали!__\\n\\nНе только в космос, но и в...      1\n",
       " 3    **Мечты о звёздах начинаются с Земли!**\\n\\nИ е...      1\n",
       " 4    **Мечты о звёздах начинаются с Земли!**\\n\\nИ е...      1\n",
       " ..                                                 ...    ...\n",
       " 329  Мы уверены, что форум [Новые горизонты](https:...      0\n",
       " 330  Мы уверены, что форум [Новые горизонты](https:...      0\n",
       " 331  Фрагмент выступления генерального директора ку...      0\n",
       " 332  Фрагмент выступления генерального директора ку...      0\n",
       " 333  __В форуме __[__Новые горизонты__](https://t.m...      0\n",
       " \n",
       " [334 rows x 2 columns],\n",
       " 'sentiment_of_bank_reviews':                                                     text  label\n",
       " 0      В Альфа-Банке работает замечательная девушка -...      1\n",
       " 1      Оформляя рассрочку в м. Видео в меге тёплый ст...      2\n",
       " 2      Очень порадовала оперативность работы в банке....      1\n",
       " 3      Имела неосторожность оформить потреб. кредит в...      2\n",
       " 4      Небольшая предыстория: Нашел на сайте MDM банк...      2\n",
       " ...                                                  ...    ...\n",
       " 13994  О высокой надёжности МКБ, порядочности и добро...      1\n",
       " 13995  Обслуживаюсь в офисе на Чернореченской 42а, ка...      1\n",
       " 13996  Попала сегодня в очень неприятную ситуацию. Ре...      1\n",
       " 13997  Добрый день! Давно являюсь клиентом банка Русс...      1\n",
       " 13998  Сначала было все банально. Взял в кредит mp3 п...      2\n",
       " \n",
       " [13999 rows x 2 columns],\n",
       " 'rutweetcorp':                                                     text  label\n",
       " 0      RT @375297699309: Да, мне нечего делать)) http...      1\n",
       " 1      @Youn_Dmitry Приедь на Северный городок на авт...      1\n",
       " 2      Скинь свою новую фотку :) — я надеюсь ты про э...      1\n",
       " 3      Она так пахнет...грудным молочком) Её маленьки...      1\n",
       " 4      -купи куру\\n-я не саппорт\\n-когда ТЫ играешь, ...      1\n",
       " ...                                                  ...    ...\n",
       " 59995  Катя за компьютером , а мне скучно( http://t.c...      2\n",
       " 59996  СЕГОДНЯ НАПИСАЛИ ПРОБНЫЙ ЕГЭ ПО РУССКОМУ\\r\\nИП...      2\n",
       " 59997  @Karishakot @yaroslavaaaa1 девки, мы обжоры. Т...      2\n",
       " 59998  Полная чушь. Не русифицирована в придачу(((((((((      2\n",
       " 59999  @asikoo @marykapelyukh вот это реально проблем...      2\n",
       " \n",
       " [60000 rows x 2 columns],\n",
       " 'rureviews':                                                     text  label\n",
       " 0      Есть зацепки,тонкий Ден.На рост 175 подошло.Од...      0\n",
       " 1                             одноразовый. не рекомендую      0\n",
       " 2      Платье нормальное.. Но были проблемы с доставк...      0\n",
       " 3                                         Время доставки      0\n",
       " 4      Резинка плохо  крепится на украшение.После нес...      0\n",
       " ...                                                  ...    ...\n",
       " 59995  цвет кофты не соответствует тому, что представ...      2\n",
       " 59996  Заказ доставили в другой город, по другому адр...      2\n",
       " 59997  бляяяяяя это не кож.зам.простая утепленная тря...      2\n",
       " 59998  Ужасное платье . Качество ужасное . Как тряпка...      2\n",
       " 59999  ужасно сшито платье , не советую ,,как гармошк...      2\n",
       " \n",
       " [60000 rows x 2 columns],\n",
       " 'rusentiment':                                                    text  label\n",
       " 0              Прорвём информационную блокаду изнутри.       0\n",
       " 1     Никогда у меня не будет \"одного приложения для...      2\n",
       " 2     Кури-и тебя не укусит злая собака, потому что ...      0\n",
       " 3     Есть 3 типа людей:\\nУмные, которые делают все ...      0\n",
       " 4                                   мегафон чет накрыло      0\n",
       " ...                                                 ...    ...\n",
       " 2962  Коллективно жмём F13! И наблюдаем за результатом!      0\n",
       " 2963                          ану ка быстро цоя добавь!      0\n",
       " 2964  Ты одна половинка - я вторая половинка...... А...      0\n",
       " 2965                                      Люблю кису)))      1\n",
       " 2966  Ахахахахах.Прикольно попереписувались.\\nаааааа...      0\n",
       " \n",
       " [31185 rows x 2 columns],\n",
       " 'ru_sentiment_monohime':                                                     text  label\n",
       " 0      почти в любом супермаркете наверно) Ну и точно...      0\n",
       " 1      мануал не для айтишников, он им не нужен, ману...      0\n",
       " 2      адо чаще увольнять с позором и лишением пенсии...      0\n",
       " 3      Гостиница комфортная, в номерах чисто, персона...      0\n",
       " 4      В конце декабря 2014г проводили 2-х дневное ме...      0\n",
       " ...                                                  ...    ...\n",
       " 59995  Стоит начать с того,что практически на всех ст...      2\n",
       " 59996  Плюсы: в центре, в пяти минутах от Рамбла. Но ...      2\n",
       " 59997  Можно сравнить с родами в холодном подъезде в ...      2\n",
       " 59998  ну вот егор демонстрирует что женщина русского...      2\n",
       " 59999  Стоимость процедур растет на глазах\\n17.03.14 ...      2\n",
       " \n",
       " [60000 rows x 2 columns]}"
      ]
     },
     "execution_count": 20,
     "metadata": {},
     "output_type": "execute_result"
    }
   ],
   "source": [
    "test_datasets"
   ]
  },
  {
   "cell_type": "markdown",
   "metadata": {
    "id": "NOGzO6aAcwuE"
   },
   "source": [
    "## Тестирование"
   ]
  },
  {
   "cell_type": "code",
   "execution_count": null,
   "metadata": {
    "execution": {
     "iopub.execute_input": "2025-04-22T06:20:33.631140Z",
     "iopub.status.busy": "2025-04-22T06:20:33.630594Z",
     "iopub.status.idle": "2025-04-22T06:20:33.635963Z",
     "shell.execute_reply": "2025-04-22T06:20:33.635180Z",
     "shell.execute_reply.started": "2025-04-22T06:20:33.631119Z"
    },
    "executionInfo": {
     "elapsed": 25,
     "status": "ok",
     "timestamp": 1744888395070,
     "user": {
      "displayName": "Qwerty Ytrewq",
      "userId": "15606734251668887822"
     },
     "user_tz": -600
    },
    "id": "Bu_LPthBc29w",
    "trusted": true
   },
   "outputs": [],
   "source": [
    "import torch\n",
    "from transformers import AutoTokenizer, AutoModelForSequenceClassification\n",
    "from torch.utils.data import Dataset, DataLoader\n",
    "from sklearn.metrics import (\n",
    "    accuracy_score,\n",
    "    f1_score,\n",
    "    classification_report,\n",
    "    confusion_matrix\n",
    ")\n",
    "\n",
    "MODEL_NAMES = [\n",
    "    \"blanchefort/rubert-base-cased-sentiment\",\n",
    "    \"seara/rubert-tiny2-russian-sentiment\",\n",
    "    \"cointegrated/rubert-tiny-sentiment-balanced\",\n",
    "    \"MonoHime/rubert_conversational_cased_sentiment\",\n",
    "    \"sismetanin/rubert-ru-sentiment-rureviews\",\n",
    "    \"blanchefort/rubert-base-cased-sentiment-rurewiews\",\n",
    "    \"rajora/distilbert-multilingual-sentiment\"\n",
    "    \"sismetanin/mbart_ru_sum_gazeta-ru-sentiment-rusentiment\",\n",
    "    \"sismetanin/mbart_ru_sum_gazeta-ru-sentiment-rureviews\",\n",
    "    \"kartashoffv/vashkontrol-sentiment-rubert\",\n",
    "    \"tabularisai/multilingual-sentiment-analysis\",\n",
    "    \"sismetanin/sbert-ru-sentiment-rusentiment\"\n",
    "]\n",
    "DEVICE = torch.device(\"cuda\" if torch.cuda.is_available() else \"cpu\")\n",
    "BATCH_SIZE = 12\n",
    "MAX_LENGTH = 512"
   ]
  },
  {
   "cell_type": "code",
   "execution_count": 22,
   "metadata": {
    "execution": {
     "iopub.execute_input": "2025-04-22T05:18:50.719079Z",
     "iopub.status.busy": "2025-04-22T05:18:50.718722Z",
     "iopub.status.idle": "2025-04-22T05:18:50.727404Z",
     "shell.execute_reply": "2025-04-22T05:18:50.726725Z",
     "shell.execute_reply.started": "2025-04-22T05:18:50.719062Z"
    },
    "executionInfo": {
     "elapsed": 6,
     "status": "ok",
     "timestamp": 1744888396829,
     "user": {
      "displayName": "Qwerty Ytrewq",
      "userId": "15606734251668887822"
     },
     "user_tz": -600
    },
    "id": "k4FQ64BFBRin",
    "trusted": true
   },
   "outputs": [],
   "source": [
    "import gc\n",
    "from tqdm import tqdm\n",
    "\n",
    "\n",
    "class CustomDataset(Dataset):\n",
    "    def __init__(self, texts, labels, tokenizer):\n",
    "        self.encodings = tokenizer(\n",
    "            texts,\n",
    "            truncation=True,\n",
    "            padding=True,\n",
    "            max_length=MAX_LENGTH,\n",
    "            return_tensors=\"pt\"\n",
    "        )\n",
    "        self.labels = torch.tensor(labels)\n",
    "\n",
    "    def __getitem__(self, idx):\n",
    "        return {\n",
    "            \"input_ids\": self.encodings[\"input_ids\"][idx],\n",
    "            \"attention_mask\": self.encodings[\"attention_mask\"][idx],\n",
    "            \"labels\": self.labels[idx]\n",
    "        }\n",
    "\n",
    "    def __len__(self):\n",
    "        return len(self.labels)\n",
    "\n",
    "def evaluate_model(model, dataloader, model_name, label_consistance=True):\n",
    "    model.eval()\n",
    "    predictions, true_labels = [], []\n",
    "\n",
    "    i = 1\n",
    "    with torch.no_grad():\n",
    "        for batch in tqdm(dataloader, desc=f\"Evaluating {model_name}\"):\n",
    "            try:\n",
    "                inputs = {\n",
    "                    \"input_ids\": batch[\"input_ids\"].to(DEVICE),\n",
    "                    \"attention_mask\": batch[\"attention_mask\"].to(DEVICE)\n",
    "                }\n",
    "                outputs = model(**inputs)\n",
    "                logits = outputs.logits\n",
    "                if not label_consistance:\n",
    "                    if model.config.num_labels == 3:\n",
    "                        logits[:, 1] = torch.max(logits[:, :2], dim=1)[0]\n",
    "                        logits = logits[:, 1:]\n",
    "                    elif model.config.num_labels == 5:\n",
    "                        logits[:, 1] = torch.max(logits[:, 1:], dim=1)[0]\n",
    "                        logits = torch.column_stack([logits[:, 1], logits[:, 0]])\n",
    "                \n",
    "                predictions.extend(torch.argmax(logits, dim=1).cpu().tolist())\n",
    "                true_labels.extend(batch[\"labels\"].cpu().tolist())\n",
    "\n",
    "                if i % 25 == 0:\n",
    "                    del inputs\n",
    "                    del outputs\n",
    "                    gc.collect()\n",
    "\n",
    "                i += 1\n",
    "            finally:\n",
    "                continue\n",
    "\n",
    "    return predictions, true_labels"
   ]
  },
  {
   "cell_type": "code",
   "execution_count": null,
   "metadata": {
    "colab": {
     "base_uri": "https://localhost:8080/"
    },
    "execution": {
     "iopub.execute_input": "2025-04-22T06:20:43.621293Z",
     "iopub.status.busy": "2025-04-22T06:20:43.620814Z",
     "iopub.status.idle": "2025-04-22T07:00:50.284599Z",
     "shell.execute_reply": "2025-04-22T07:00:50.284014Z",
     "shell.execute_reply.started": "2025-04-22T06:20:43.621270Z"
    },
    "id": "_zkrneblBeZQ",
    "outputId": "f4d4b040-34bf-45a1-9782-c11bdd939b54",
    "trusted": true
   },
   "outputs": [
    {
     "name": "stderr",
     "output_type": "stream",
     "text": [
      "Evaluating tabularisai/multilingual-sentiment-analysis: 100%|██████████| 28/28 [00:05<00:00,  4.81it/s]\n"
     ]
    },
    {
     "name": "stdout",
     "output_type": "stream",
     "text": [
      "{'model': 'tabularisai/multilingual-sentiment-analysis', 'dataset': 'tg_messages_mriya', 'accuracy': 0.8532934131736527, 'f1': 0.14035087719298248, 'f1_weighted': 0.9034677651330126, 'f1_macro': 0.5300772389238235, 'classification_report': '              precision    recall  f1-score   support\\n\\n           0       0.99      0.86      0.92       327\\n           1       0.08      0.57      0.14         7\\n\\n    accuracy                           0.85       334\\n   macro avg       0.53      0.72      0.53       334\\nweighted avg       0.97      0.85      0.90       334\\n', 'confusion_matrix': [[281, 46], [3, 4]]}\n"
     ]
    },
    {
     "name": "stderr",
     "output_type": "stream",
     "text": [
      "Evaluating tabularisai/multilingual-sentiment-analysis: 100%|██████████| 1167/1167 [04:29<00:00,  4.32it/s]\n"
     ]
    },
    {
     "name": "stdout",
     "output_type": "stream",
     "text": [
      "{'model': 'tabularisai/multilingual-sentiment-analysis', 'dataset': 'sentiment_of_bank_reviews', 'accuracy': 0.709622115865419, 'f1': 0.7317008778298462, 'f1_weighted': 0.7076405783434305, 'f1_macro': 0.707642296936251, 'classification_report': '              precision    recall  f1-score   support\\n\\n           0       0.75      0.63      0.68      7000\\n           1       0.68      0.79      0.73      6999\\n\\n    accuracy                           0.71     13999\\n   macro avg       0.72      0.71      0.71     13999\\nweighted avg       0.72      0.71      0.71     13999\\n', 'confusion_matrix': [[4391, 2609], [1456, 5543]]}\n"
     ]
    },
    {
     "name": "stderr",
     "output_type": "stream",
     "text": [
      "Evaluating tabularisai/multilingual-sentiment-analysis: 100%|██████████| 5000/5000 [05:07<00:00, 16.23it/s]\n"
     ]
    },
    {
     "name": "stdout",
     "output_type": "stream",
     "text": [
      "{'model': 'tabularisai/multilingual-sentiment-analysis', 'dataset': 'rutweetcorp', 'accuracy': 0.5848333333333333, 'f1': 0.5160099479288102, 'f1_weighted': 0.5770584157794634, 'f1_macro': 0.5762650568453951, 'classification_report': '              precision    recall  f1-score   support\\n\\n           0       0.57      0.72      0.64     30395\\n           1       0.61      0.45      0.52     29605\\n\\n    accuracy                           0.58     60000\\n   macro avg       0.59      0.58      0.58     60000\\nweighted avg       0.59      0.58      0.58     60000\\n', 'confusion_matrix': [[21811, 8584], [16326, 13279]]}\n"
     ]
    },
    {
     "name": "stderr",
     "output_type": "stream",
     "text": [
      "Evaluating tabularisai/multilingual-sentiment-analysis: 100%|██████████| 5000/5000 [19:13<00:00,  4.33it/s]\n"
     ]
    },
    {
     "name": "stdout",
     "output_type": "stream",
     "text": [
      "{'model': 'tabularisai/multilingual-sentiment-analysis', 'dataset': 'rureviews', 'accuracy': 0.7442333333333333, 'f1': 0.6258168340973373, 'f1_weighted': 0.7457504941327817, 'f1_macro': 0.7157670791239206, 'classification_report': '              precision    recall  f1-score   support\\n\\n           0       0.82      0.80      0.81     40000\\n           1       0.61      0.64      0.63     20000\\n\\n    accuracy                           0.74     60000\\n   macro avg       0.71      0.72      0.72     60000\\nweighted avg       0.75      0.74      0.75     60000\\n', 'confusion_matrix': [[31821, 8179], [7167, 12833]]}\n"
     ]
    },
    {
     "name": "stderr",
     "output_type": "stream",
     "text": [
      "Evaluating tabularisai/multilingual-sentiment-analysis: 100%|██████████| 2599/2599 [09:57<00:00,  4.35it/s]\n"
     ]
    },
    {
     "name": "stdout",
     "output_type": "stream",
     "text": [
      "{'model': 'tabularisai/multilingual-sentiment-analysis', 'dataset': 'rusentiment', 'accuracy': 0.680647747314414, 'f1': 0.29603449494592493, 'f1_weighted': 0.7310782388791437, 'f1_macro': 0.5447573922171716, 'classification_report': '              precision    recall  f1-score   support\\n\\n           0       0.91      0.70      0.79     27273\\n           1       0.20      0.54      0.30      3912\\n\\n    accuracy                           0.68     31185\\n   macro avg       0.56      0.62      0.54     31185\\nweighted avg       0.82      0.68      0.73     31185\\n', 'confusion_matrix': [[19132, 8141], [1818, 2094]]}\n"
     ]
    }
   ],
   "source": [
    "import time\n",
    "\n",
    "results = []\n",
    "for model_name in MODEL_NAMES:\n",
    "    try:\n",
    "        tokenizer = AutoTokenizer.from_pretrained(model_name)\n",
    "        model = AutoModelForSequenceClassification.from_pretrained(model_name).to(DEVICE)\n",
    "    except Exception as e:\n",
    "        print(f\"Ошибка загрузки модели {model_name}: {str(e)}\")\n",
    "        raise e\n",
    "\n",
    "    time.sleep(30)\n",
    "    for dataset_name, df in list(test_datasets.items()):\n",
    "        try:\n",
    "            texts = df[\"text\"].tolist()\n",
    "            labels = df[\"label\"].tolist()\n",
    "\n",
    "            labels_are_consistent = model.config.num_labels == 2\n",
    "            labels = [label if label == 0 else label - 1 for label in labels]\n",
    "\n",
    "            dataset = CustomDataset(texts, labels, tokenizer)\n",
    "            dataloader = DataLoader(dataset, batch_size=BATCH_SIZE, pin_memory=True)\n",
    "\n",
    "            preds, truth = evaluate_model(model, dataloader, model_name, labels_are_consistent)\n",
    "        \n",
    "            metrics = {\n",
    "                \"model\": model_name,\n",
    "                \"dataset\": dataset_name,\n",
    "                \"accuracy\": accuracy_score(truth, preds),\n",
    "                \"f1\": f1_score(truth, preds, zero_division=0.),\n",
    "                \"f1_weighted\": f1_score(truth, preds, average=\"weighted\", zero_division=0.),\n",
    "                \"f1_macro\": f1_score(truth, preds, average=\"macro\", zero_division=0.),\n",
    "                \"classification_report\": classification_report(truth, preds, zero_division=0.),\n",
    "                \"confusion_matrix\": confusion_matrix(truth, preds).tolist()\n",
    "            }\n",
    "            print(metrics)\n",
    "            results.append(metrics)\n",
    "        finally:\n",
    "            results_df = pd.DataFrame(results)\n",
    "            results_df.to_csv(\"/kaggle/working/model_evaluation_results5.csv\", index=False)\n",
    "            results_df.to_excel(\"/kaggle/working/model_evaluation_results5.xlsx\", index=False)\n"
   ]
  },
  {
   "cell_type": "markdown",
   "metadata": {},
   "source": [
    "## Резульаты тестирования"
   ]
  },
  {
   "cell_type": "code",
   "execution_count": 1,
   "metadata": {
    "id": "Qia-i73_RH1u",
    "trusted": true
   },
   "outputs": [
    {
     "data": {
      "application/vnd.microsoft.datawrangler.viewer.v0+json": {
       "columns": [
        {
         "name": "index",
         "rawType": "int64",
         "type": "integer"
        },
        {
         "name": "model",
         "rawType": "object",
         "type": "string"
        },
        {
         "name": "dataset",
         "rawType": "object",
         "type": "string"
        },
        {
         "name": "accuracy",
         "rawType": "float64",
         "type": "float"
        },
        {
         "name": "f1",
         "rawType": "float64",
         "type": "float"
        },
        {
         "name": "f1_weighted",
         "rawType": "float64",
         "type": "float"
        },
        {
         "name": "f1_macro",
         "rawType": "float64",
         "type": "float"
        },
        {
         "name": "classification_report",
         "rawType": "object",
         "type": "string"
        },
        {
         "name": "confusion_matrix",
         "rawType": "object",
         "type": "string"
        }
       ],
       "conversionMethod": "pd.DataFrame",
       "ref": "3ab1794f-f9b3-4794-a92c-332427c060c6",
       "rows": [
        [
         "0",
         "blanchefort/rubert-base-cased-sentiment",
         "tg_messages_mriya",
         "0.4281437125748503",
         "0.073394495412844",
         "0.4740880776498843",
         "0.3600022933400832",
         "              precision    recall  f1-score   support\n\n           0       0.83      0.31      0.45       227\n           1       0.47      0.69      0.56       100\n           2       0.04      0.57      0.07         7\n\n    accuracy                           0.43       334\n   macro avg       0.45      0.52      0.36       334\nweighted avg       0.71      0.43      0.47       334\n",
         "[[229, 98], [3, 4]]"
        ],
        [
         "1",
         "blanchefort/rubert-base-cased-sentiment",
         "sentiment_of_bank_reviews",
         "0.1881562968783484",
         "0.0",
         "0.1616859904429707",
         "0.1077829609624355",
         "              precision    recall  f1-score   support\n\n           0       0.00      0.00      0.00         0\n           1       0.28      0.38      0.32      7000\n           2       0.00      0.00      0.00      6999\n\n    accuracy                           0.19     13999\n   macro avg       0.09      0.13      0.11     13999\nweighted avg       0.14      0.19      0.16     13999\n",
         "[[7000, 0], [6999, 0]]"
        ],
        [
         "2",
         "blanchefort/rubert-base-cased-sentiment",
         "rutweetcorp",
         "0.0044349612491954",
         "0.0",
         "0.0044758201340771",
         "0.0029450855714227",
         "              precision    recall  f1-score   support\n\n           0       0.00      0.00      0.00         0\n           1       0.01      0.01      0.01    114911\n           2       0.00      0.00      0.00    111923\n\n    accuracy                           0.00    226834\n   macro avg       0.00      0.00      0.00    226834\nweighted avg       0.00      0.00      0.00    226834\n",
         "[[114911, 0], [111923, 0]]"
        ],
        [
         "3",
         "blanchefort/rubert-base-cased-sentiment",
         "rureviews",
         "0.7646",
         "0.7584980343319685",
         "0.764956151775636",
         "0.7584980343319684",
         "              precision    recall  f1-score   support\n\n           0       0.74      0.54      0.62     20000\n           1       0.90      0.88      0.89     20000\n           2       0.68      0.88      0.76     20000\n\n    accuracy                           0.76     60000\n   macro avg       0.77      0.76      0.76     60000\nweighted avg       0.77      0.76      0.76     60000\n",
         "[[31552, 8448], [2380, 17620]]"
        ],
        [
         "4",
         "blanchefort/rubert-base-cased-sentiment",
         "rusentiment",
         "0.6521725188391855",
         "0.577715928937114",
         "0.6672909795733531",
         "0.6259025797844731",
         "              precision    recall  f1-score   support\n\n           0       0.92      0.58      0.71     20627\n           1       0.48      0.77      0.59      6646\n           2       0.44      0.85      0.58      3912\n\n    accuracy                           0.65     31185\n   macro avg       0.61      0.73      0.63     31185\nweighted avg       0.76      0.65      0.67     31185\n",
         "[[23009, 4264], [591, 3321]]"
        ]
       ],
       "shape": {
        "columns": 8,
        "rows": 5
       }
      },
      "text/html": [
       "<div>\n",
       "<style scoped>\n",
       "    .dataframe tbody tr th:only-of-type {\n",
       "        vertical-align: middle;\n",
       "    }\n",
       "\n",
       "    .dataframe tbody tr th {\n",
       "        vertical-align: top;\n",
       "    }\n",
       "\n",
       "    .dataframe thead th {\n",
       "        text-align: right;\n",
       "    }\n",
       "</style>\n",
       "<table border=\"1\" class=\"dataframe\">\n",
       "  <thead>\n",
       "    <tr style=\"text-align: right;\">\n",
       "      <th></th>\n",
       "      <th>model</th>\n",
       "      <th>dataset</th>\n",
       "      <th>accuracy</th>\n",
       "      <th>f1</th>\n",
       "      <th>f1_weighted</th>\n",
       "      <th>f1_macro</th>\n",
       "      <th>classification_report</th>\n",
       "      <th>confusion_matrix</th>\n",
       "    </tr>\n",
       "  </thead>\n",
       "  <tbody>\n",
       "    <tr>\n",
       "      <th>0</th>\n",
       "      <td>blanchefort/rubert-base-cased-sentiment</td>\n",
       "      <td>tg_messages_mriya</td>\n",
       "      <td>0.428144</td>\n",
       "      <td>0.073394</td>\n",
       "      <td>0.474088</td>\n",
       "      <td>0.360002</td>\n",
       "      <td>precision    recall  f1-score   ...</td>\n",
       "      <td>[[229, 98], [3, 4]]</td>\n",
       "    </tr>\n",
       "    <tr>\n",
       "      <th>1</th>\n",
       "      <td>blanchefort/rubert-base-cased-sentiment</td>\n",
       "      <td>sentiment_of_bank_reviews</td>\n",
       "      <td>0.188156</td>\n",
       "      <td>0.000000</td>\n",
       "      <td>0.161686</td>\n",
       "      <td>0.107783</td>\n",
       "      <td>precision    recall  f1-score   ...</td>\n",
       "      <td>[[7000, 0], [6999, 0]]</td>\n",
       "    </tr>\n",
       "    <tr>\n",
       "      <th>2</th>\n",
       "      <td>blanchefort/rubert-base-cased-sentiment</td>\n",
       "      <td>rutweetcorp</td>\n",
       "      <td>0.004435</td>\n",
       "      <td>0.000000</td>\n",
       "      <td>0.004476</td>\n",
       "      <td>0.002945</td>\n",
       "      <td>precision    recall  f1-score   ...</td>\n",
       "      <td>[[114911, 0], [111923, 0]]</td>\n",
       "    </tr>\n",
       "    <tr>\n",
       "      <th>3</th>\n",
       "      <td>blanchefort/rubert-base-cased-sentiment</td>\n",
       "      <td>rureviews</td>\n",
       "      <td>0.764600</td>\n",
       "      <td>0.758498</td>\n",
       "      <td>0.764956</td>\n",
       "      <td>0.758498</td>\n",
       "      <td>precision    recall  f1-score   ...</td>\n",
       "      <td>[[31552, 8448], [2380, 17620]]</td>\n",
       "    </tr>\n",
       "    <tr>\n",
       "      <th>4</th>\n",
       "      <td>blanchefort/rubert-base-cased-sentiment</td>\n",
       "      <td>rusentiment</td>\n",
       "      <td>0.652173</td>\n",
       "      <td>0.577716</td>\n",
       "      <td>0.667291</td>\n",
       "      <td>0.625903</td>\n",
       "      <td>precision    recall  f1-score   ...</td>\n",
       "      <td>[[23009, 4264], [591, 3321]]</td>\n",
       "    </tr>\n",
       "  </tbody>\n",
       "</table>\n",
       "</div>"
      ],
      "text/plain": [
       "                                     model                    dataset  \\\n",
       "0  blanchefort/rubert-base-cased-sentiment          tg_messages_mriya   \n",
       "1  blanchefort/rubert-base-cased-sentiment  sentiment_of_bank_reviews   \n",
       "2  blanchefort/rubert-base-cased-sentiment                rutweetcorp   \n",
       "3  blanchefort/rubert-base-cased-sentiment                  rureviews   \n",
       "4  blanchefort/rubert-base-cased-sentiment                rusentiment   \n",
       "\n",
       "   accuracy        f1  f1_weighted  f1_macro  \\\n",
       "0  0.428144  0.073394     0.474088  0.360002   \n",
       "1  0.188156  0.000000     0.161686  0.107783   \n",
       "2  0.004435  0.000000     0.004476  0.002945   \n",
       "3  0.764600  0.758498     0.764956  0.758498   \n",
       "4  0.652173  0.577716     0.667291  0.625903   \n",
       "\n",
       "                               classification_report  \\\n",
       "0                precision    recall  f1-score   ...   \n",
       "1                precision    recall  f1-score   ...   \n",
       "2                precision    recall  f1-score   ...   \n",
       "3                precision    recall  f1-score   ...   \n",
       "4                precision    recall  f1-score   ...   \n",
       "\n",
       "                 confusion_matrix  \n",
       "0             [[229, 98], [3, 4]]  \n",
       "1          [[7000, 0], [6999, 0]]  \n",
       "2      [[114911, 0], [111923, 0]]  \n",
       "3  [[31552, 8448], [2380, 17620]]  \n",
       "4    [[23009, 4264], [591, 3321]]  "
      ]
     },
     "execution_count": 1,
     "metadata": {},
     "output_type": "execute_result"
    }
   ],
   "source": [
    "import pandas as pd\n",
    "\n",
    "\n",
    "df = pd.read_csv('model_evaluation_results.csv')\n",
    "df.head()"
   ]
  },
  {
   "cell_type": "code",
   "execution_count": null,
   "metadata": {},
   "outputs": [
    {
     "data": {
      "application/vnd.microsoft.datawrangler.viewer.v0+json": {
       "columns": [
        {
         "name": "index",
         "rawType": "int64",
         "type": "integer"
        },
        {
         "name": "model",
         "rawType": "object",
         "type": "string"
        },
        {
         "name": "accuracy",
         "rawType": "float64",
         "type": "float"
        },
        {
         "name": "f1",
         "rawType": "float64",
         "type": "float"
        },
        {
         "name": "f1_weighted",
         "rawType": "float64",
         "type": "float"
        },
        {
         "name": "f1_macro",
         "rawType": "float64",
         "type": "float"
        }
       ],
       "conversionMethod": "pd.DataFrame",
       "ref": "2cd275d2-bd19-4191-8e26-bf07e3a73160",
       "rows": [
        [
         "0",
         "sismetanin/sbert-ru-sentiment-rusentiment",
         "0.8578540713540455",
         "0.7049241637738879",
         "0.8548496616913158",
         "0.7980781592506186"
        ],
        [
         "1",
         "sismetanin/mbart_ru_sum_gazeta-ru-sentiment-rusentiment",
         "0.8385408985195483",
         "0.6625364574797391",
         "0.8348422630397919",
         "0.7695665733546643"
        ],
        [
         "2",
         "seara/rubert-tiny2-russian-sentiment",
         "0.7201107868968902",
         "0.6497392109521775",
         "0.7227114086476082",
         "0.6928113177057823"
        ],
        [
         "3",
         "blanchefort/rubert-base-cased-sentiment-rurewiews",
         "0.729443258290531",
         "0.5627022716323226",
         "0.7499607511241136",
         "0.6570948647964473"
        ],
        [
         "4",
         "kartashoffv/vashkontrol-sentiment-rubert",
         "0.7611917694826871",
         "0.4916148590057718",
         "0.7619845763981724",
         "0.6525173218946955"
        ],
        [
         "5",
         "tabularisai/multilingual-sentiment-analysis",
         "0.7185827682811365",
         "0.4748256543959335",
         "0.734957452903508",
         "0.6254911798269326"
        ],
        [
         "6",
         "blanchefort/rubert-base-cased-sentiment",
         "0.4411206927013744",
         "0.33346165529495747",
         "0.4423844157093025",
         "0.3994163754539091"
        ],
        [
         "7",
         "MonoHime/rubert_conversational_cased_sentiment",
         "0.44161572877522765",
         "0.27425092315680016",
         "0.3855412656764197",
         "0.34395467969877574"
        ],
        [
         "8",
         "rajora/distilbert-multilingual-sentiment",
         "0.5748561949547755",
         "0.10754565630397372",
         "0.5551971758282631",
         "0.40815494930682444"
        ],
        [
         "9",
         "cointegrated/rubert-tiny-sentiment-balanced",
         "0.17776613061892865",
         "0.06800540987364699",
         "0.17787813531338337",
         "0.1578888748478996"
        ],
        [
         "10",
         "sismetanin/rubert-ru-sentiment-rureviews",
         "0.31653968075773325",
         "0.05651705424577095",
         "0.34757012689777156",
         "0.25758708634673416"
        ],
        [
         "11",
         "sismetanin/mbart_ru_sum_gazeta-ru-sentiment-rureviews",
         "0.2909129278893587",
         "0.04524587730989957",
         "0.3226362677265419",
         "0.23585875532312273"
        ]
       ],
       "shape": {
        "columns": 5,
        "rows": 12
       }
      },
      "text/html": [
       "<div>\n",
       "<style scoped>\n",
       "    .dataframe tbody tr th:only-of-type {\n",
       "        vertical-align: middle;\n",
       "    }\n",
       "\n",
       "    .dataframe tbody tr th {\n",
       "        vertical-align: top;\n",
       "    }\n",
       "\n",
       "    .dataframe thead th {\n",
       "        text-align: right;\n",
       "    }\n",
       "</style>\n",
       "<table border=\"1\" class=\"dataframe\">\n",
       "  <thead>\n",
       "    <tr style=\"text-align: right;\">\n",
       "      <th></th>\n",
       "      <th>model</th>\n",
       "      <th>accuracy</th>\n",
       "      <th>f1</th>\n",
       "      <th>f1_weighted</th>\n",
       "      <th>f1_macro</th>\n",
       "    </tr>\n",
       "  </thead>\n",
       "  <tbody>\n",
       "    <tr>\n",
       "      <th>0</th>\n",
       "      <td>sismetanin/sbert-ru-sentiment-rusentiment</td>\n",
       "      <td>0.857854</td>\n",
       "      <td>0.704924</td>\n",
       "      <td>0.854850</td>\n",
       "      <td>0.798078</td>\n",
       "    </tr>\n",
       "    <tr>\n",
       "      <th>1</th>\n",
       "      <td>sismetanin/mbart_ru_sum_gazeta-ru-sentiment-ru...</td>\n",
       "      <td>0.838541</td>\n",
       "      <td>0.662536</td>\n",
       "      <td>0.834842</td>\n",
       "      <td>0.769567</td>\n",
       "    </tr>\n",
       "    <tr>\n",
       "      <th>2</th>\n",
       "      <td>seara/rubert-tiny2-russian-sentiment</td>\n",
       "      <td>0.720111</td>\n",
       "      <td>0.649739</td>\n",
       "      <td>0.722711</td>\n",
       "      <td>0.692811</td>\n",
       "    </tr>\n",
       "    <tr>\n",
       "      <th>3</th>\n",
       "      <td>blanchefort/rubert-base-cased-sentiment-rurewiews</td>\n",
       "      <td>0.729443</td>\n",
       "      <td>0.562702</td>\n",
       "      <td>0.749961</td>\n",
       "      <td>0.657095</td>\n",
       "    </tr>\n",
       "    <tr>\n",
       "      <th>4</th>\n",
       "      <td>kartashoffv/vashkontrol-sentiment-rubert</td>\n",
       "      <td>0.761192</td>\n",
       "      <td>0.491615</td>\n",
       "      <td>0.761985</td>\n",
       "      <td>0.652517</td>\n",
       "    </tr>\n",
       "    <tr>\n",
       "      <th>5</th>\n",
       "      <td>tabularisai/multilingual-sentiment-analysis</td>\n",
       "      <td>0.718583</td>\n",
       "      <td>0.474826</td>\n",
       "      <td>0.734957</td>\n",
       "      <td>0.625491</td>\n",
       "    </tr>\n",
       "    <tr>\n",
       "      <th>6</th>\n",
       "      <td>blanchefort/rubert-base-cased-sentiment</td>\n",
       "      <td>0.441121</td>\n",
       "      <td>0.333462</td>\n",
       "      <td>0.442384</td>\n",
       "      <td>0.399416</td>\n",
       "    </tr>\n",
       "    <tr>\n",
       "      <th>7</th>\n",
       "      <td>MonoHime/rubert_conversational_cased_sentiment</td>\n",
       "      <td>0.441616</td>\n",
       "      <td>0.274251</td>\n",
       "      <td>0.385541</td>\n",
       "      <td>0.343955</td>\n",
       "    </tr>\n",
       "    <tr>\n",
       "      <th>8</th>\n",
       "      <td>rajora/distilbert-multilingual-sentiment</td>\n",
       "      <td>0.574856</td>\n",
       "      <td>0.107546</td>\n",
       "      <td>0.555197</td>\n",
       "      <td>0.408155</td>\n",
       "    </tr>\n",
       "    <tr>\n",
       "      <th>9</th>\n",
       "      <td>cointegrated/rubert-tiny-sentiment-balanced</td>\n",
       "      <td>0.177766</td>\n",
       "      <td>0.068005</td>\n",
       "      <td>0.177878</td>\n",
       "      <td>0.157889</td>\n",
       "    </tr>\n",
       "    <tr>\n",
       "      <th>10</th>\n",
       "      <td>sismetanin/rubert-ru-sentiment-rureviews</td>\n",
       "      <td>0.316540</td>\n",
       "      <td>0.056517</td>\n",
       "      <td>0.347570</td>\n",
       "      <td>0.257587</td>\n",
       "    </tr>\n",
       "    <tr>\n",
       "      <th>11</th>\n",
       "      <td>sismetanin/mbart_ru_sum_gazeta-ru-sentiment-ru...</td>\n",
       "      <td>0.290913</td>\n",
       "      <td>0.045246</td>\n",
       "      <td>0.322636</td>\n",
       "      <td>0.235859</td>\n",
       "    </tr>\n",
       "  </tbody>\n",
       "</table>\n",
       "</div>"
      ],
      "text/plain": [
       "                                                model  accuracy        f1  \\\n",
       "0           sismetanin/sbert-ru-sentiment-rusentiment  0.857854  0.704924   \n",
       "1   sismetanin/mbart_ru_sum_gazeta-ru-sentiment-ru...  0.838541  0.662536   \n",
       "2                seara/rubert-tiny2-russian-sentiment  0.720111  0.649739   \n",
       "3   blanchefort/rubert-base-cased-sentiment-rurewiews  0.729443  0.562702   \n",
       "4            kartashoffv/vashkontrol-sentiment-rubert  0.761192  0.491615   \n",
       "5         tabularisai/multilingual-sentiment-analysis  0.718583  0.474826   \n",
       "6             blanchefort/rubert-base-cased-sentiment  0.441121  0.333462   \n",
       "7      MonoHime/rubert_conversational_cased_sentiment  0.441616  0.274251   \n",
       "8            rajora/distilbert-multilingual-sentiment  0.574856  0.107546   \n",
       "9         cointegrated/rubert-tiny-sentiment-balanced  0.177766  0.068005   \n",
       "10           sismetanin/rubert-ru-sentiment-rureviews  0.316540  0.056517   \n",
       "11  sismetanin/mbart_ru_sum_gazeta-ru-sentiment-ru...  0.290913  0.045246   \n",
       "\n",
       "    f1_weighted  f1_macro  \n",
       "0      0.854850  0.798078  \n",
       "1      0.834842  0.769567  \n",
       "2      0.722711  0.692811  \n",
       "3      0.749961  0.657095  \n",
       "4      0.761985  0.652517  \n",
       "5      0.734957  0.625491  \n",
       "6      0.442384  0.399416  \n",
       "7      0.385541  0.343955  \n",
       "8      0.555197  0.408155  \n",
       "9      0.177878  0.157889  \n",
       "10     0.347570  0.257587  \n",
       "11     0.322636  0.235859  "
      ]
     },
     "execution_count": 2,
     "metadata": {},
     "output_type": "execute_result"
    }
   ],
   "source": [
    "# Лучшие модели по средней метрике f1 по всем датасетам\n",
    "df.groupby('model', as_index=False)[['accuracy', 'f1', 'f1_weighted', 'f1_macro']].mean().sort_values('f1', ascending=False).reset_index(drop=True)"
   ]
  },
  {
   "cell_type": "code",
   "execution_count": null,
   "metadata": {},
   "outputs": [
    {
     "data": {
      "application/vnd.microsoft.datawrangler.viewer.v0+json": {
       "columns": [
        {
         "name": "index",
         "rawType": "int64",
         "type": "integer"
        },
        {
         "name": "model",
         "rawType": "object",
         "type": "string"
        },
        {
         "name": "accuracy",
         "rawType": "float64",
         "type": "float"
        },
        {
         "name": "f1",
         "rawType": "float64",
         "type": "float"
        },
        {
         "name": "f1_weighted",
         "rawType": "float64",
         "type": "float"
        },
        {
         "name": "f1_macro",
         "rawType": "float64",
         "type": "float"
        },
        {
         "name": "classification_report",
         "rawType": "object",
         "type": "string"
        },
        {
         "name": "confusion_matrix",
         "rawType": "object",
         "type": "string"
        }
       ],
       "conversionMethod": "pd.DataFrame",
       "ref": "531258b7-e586-4fd4-a7f9-576cde613ec9",
       "rows": [
        [
         "0",
         "sismetanin/sbert-ru-sentiment-rusentiment",
         "0.9790419161676648",
         "0.5333333333333333",
         "0.979724471424685",
         "0.7613067891781521",
         "              precision    recall  f1-score   support\n\n           0       0.99      0.99      0.99       327\n           1       0.50      0.57      0.53         7\n\n    accuracy                           0.98       334\n   macro avg       0.75      0.78      0.76       334\nweighted avg       0.98      0.98      0.98       334\n",
         "[[323, 4], [3, 4]]"
        ],
        [
         "1",
         "sismetanin/mbart_ru_sum_gazeta-ru-sentiment-rusentiment",
         "0.9760479041916168",
         "0.4285714285714285",
         "0.9760479041916168",
         "0.7081695063346439",
         "              precision    recall  f1-score   support\n\n           0       0.99      0.99      0.99       327\n           1       0.43      0.43      0.43         7\n\n    accuracy                           0.98       334\n   macro avg       0.71      0.71      0.71       334\nweighted avg       0.98      0.98      0.98       334\n",
         "[[323, 4], [4, 3]]"
        ],
        [
         "2",
         "seara/rubert-tiny2-russian-sentiment",
         "0.6107784431137725",
         "0.3333333333333333",
         "0.6177167595128832",
         "0.5197504416131092",
         "              precision    recall  f1-score   support\n\n           0       0.86      0.51      0.64       227\n           1       0.44      0.86      0.59       100\n           2       0.40      0.29      0.33         7\n\n    accuracy                           0.61       334\n   macro avg       0.57      0.55      0.52       334\nweighted avg       0.73      0.61      0.62       334\n",
         "[[324, 3], [5, 2]]"
        ],
        [
         "3",
         "kartashoffv/vashkontrol-sentiment-rubert",
         "0.9161676646706588",
         "0.2222222222222222",
         "0.940323993363484",
         "0.5889592123769338",
         "              precision    recall  f1-score   support\n\n           0       0.99      0.92      0.96       327\n           1       0.14      0.57      0.22         7\n\n    accuracy                           0.92       334\n   macro avg       0.56      0.75      0.59       334\nweighted avg       0.97      0.92      0.94       334\n",
         "[[302, 25], [3, 4]]"
        ],
        [
         "4",
         "tabularisai/multilingual-sentiment-analysis",
         "0.8532934131736527",
         "0.1403508771929824",
         "0.9034677651330126",
         "0.5300772389238235",
         "              precision    recall  f1-score   support\n\n           0       0.99      0.86      0.92       327\n           1       0.08      0.57      0.14         7\n\n    accuracy                           0.85       334\n   macro avg       0.53      0.72      0.53       334\nweighted avg       0.97      0.85      0.90       334\n",
         "[[281, 46], [3, 4]]"
        ],
        [
         "5",
         "blanchefort/rubert-base-cased-sentiment-rurewiews",
         "0.7964071856287425",
         "0.1282051282051282",
         "0.8688901206713041",
         "0.5064754454584963",
         "              precision    recall  f1-score   support\n\n           0       0.99      0.80      0.88       327\n           1       0.07      0.71      0.13         7\n\n    accuracy                           0.80       334\n   macro avg       0.53      0.76      0.51       334\nweighted avg       0.97      0.80      0.87       334\n",
         "[[261, 66], [2, 5]]"
        ],
        [
         "6",
         "blanchefort/rubert-base-cased-sentiment",
         "0.4281437125748503",
         "0.073394495412844",
         "0.4740880776498843",
         "0.3600022933400832",
         "              precision    recall  f1-score   support\n\n           0       0.83      0.31      0.45       227\n           1       0.47      0.69      0.56       100\n           2       0.04      0.57      0.07         7\n\n    accuracy                           0.43       334\n   macro avg       0.45      0.52      0.36       334\nweighted avg       0.71      0.43      0.47       334\n",
         "[[229, 98], [3, 4]]"
        ],
        [
         "7",
         "MonoHime/rubert_conversational_cased_sentiment",
         "0.8383233532934131",
         "0.0357142857142857",
         "0.8934043677351179",
         "0.4737394957983193",
         "              precision    recall  f1-score   support\n\n           0       0.98      0.85      0.91       327\n           1       0.02      0.14      0.04         7\n\n    accuracy                           0.84       334\n   macro avg       0.50      0.50      0.47       334\nweighted avg       0.96      0.84      0.89       334\n",
         "[[279, 48], [6, 1]]"
        ],
        [
         "8",
         "rajora/distilbert-multilingual-sentiment",
         "0.7724550898203593",
         "0.0256410256410256",
         "0.8534654289855752",
         "0.4484137331594959",
         "              precision    recall  f1-score   support\n\n           0       0.98      0.79      0.87       327\n           1       0.01      0.14      0.03         7\n\n    accuracy                           0.77       334\n   macro avg       0.50      0.46      0.45       334\nweighted avg       0.96      0.77      0.85       334\n",
         "[[257, 70], [6, 1]]"
        ],
        [
         "9",
         "sismetanin/mbart_ru_sum_gazeta-ru-sentiment-rureviews",
         "0.1946107784431137",
         "0.0146520146520146",
         "0.3126090564732269",
         "0.1668196782120833",
         "              precision    recall  f1-score   support\n\n           0       0.93      0.19      0.32       327\n           1       0.01      0.29      0.01         7\n\n    accuracy                           0.19       334\n   macro avg       0.47      0.24      0.17       334\nweighted avg       0.91      0.19      0.31       334\n",
         "[[63, 264], [5, 2]]"
        ],
        [
         "10",
         "sismetanin/rubert-ru-sentiment-rureviews",
         "0.2245508982035928",
         "0.0076628352490421",
         "0.3561758405863299",
         "0.1856495994427029",
         "              precision    recall  f1-score   support\n\n           0       0.93      0.23      0.36       327\n           1       0.00      0.14      0.01         7\n\n    accuracy                           0.22       334\n   macro avg       0.46      0.18      0.19       334\nweighted avg       0.91      0.22      0.36       334\n",
         "[[74, 253], [6, 1]]"
        ],
        [
         "11",
         "cointegrated/rubert-tiny-sentiment-balanced",
         "0.1317365269461078",
         "0.0",
         "0.1485529149428604",
         "0.1075843604302266",
         "              precision    recall  f1-score   support\n\n           0       0.77      0.07      0.14       227\n           1       0.14      0.27      0.19       100\n           2       0.00      0.00      0.00         7\n\n    accuracy                           0.13       334\n   macro avg       0.30      0.11      0.11       334\nweighted avg       0.57      0.13      0.15       334\n",
         "[[205, 122], [7, 0]]"
        ]
       ],
       "shape": {
        "columns": 7,
        "rows": 12
       }
      },
      "text/html": [
       "<div>\n",
       "<style scoped>\n",
       "    .dataframe tbody tr th:only-of-type {\n",
       "        vertical-align: middle;\n",
       "    }\n",
       "\n",
       "    .dataframe tbody tr th {\n",
       "        vertical-align: top;\n",
       "    }\n",
       "\n",
       "    .dataframe thead th {\n",
       "        text-align: right;\n",
       "    }\n",
       "</style>\n",
       "<table border=\"1\" class=\"dataframe\">\n",
       "  <thead>\n",
       "    <tr style=\"text-align: right;\">\n",
       "      <th></th>\n",
       "      <th>model</th>\n",
       "      <th>accuracy</th>\n",
       "      <th>f1</th>\n",
       "      <th>f1_weighted</th>\n",
       "      <th>f1_macro</th>\n",
       "      <th>classification_report</th>\n",
       "      <th>confusion_matrix</th>\n",
       "    </tr>\n",
       "  </thead>\n",
       "  <tbody>\n",
       "    <tr>\n",
       "      <th>0</th>\n",
       "      <td>sismetanin/sbert-ru-sentiment-rusentiment</td>\n",
       "      <td>0.979042</td>\n",
       "      <td>0.533333</td>\n",
       "      <td>0.979724</td>\n",
       "      <td>0.761307</td>\n",
       "      <td>precision    recall  f1-score   ...</td>\n",
       "      <td>[[323, 4], [3, 4]]</td>\n",
       "    </tr>\n",
       "    <tr>\n",
       "      <th>1</th>\n",
       "      <td>sismetanin/mbart_ru_sum_gazeta-ru-sentiment-ru...</td>\n",
       "      <td>0.976048</td>\n",
       "      <td>0.428571</td>\n",
       "      <td>0.976048</td>\n",
       "      <td>0.708170</td>\n",
       "      <td>precision    recall  f1-score   ...</td>\n",
       "      <td>[[323, 4], [4, 3]]</td>\n",
       "    </tr>\n",
       "    <tr>\n",
       "      <th>2</th>\n",
       "      <td>seara/rubert-tiny2-russian-sentiment</td>\n",
       "      <td>0.610778</td>\n",
       "      <td>0.333333</td>\n",
       "      <td>0.617717</td>\n",
       "      <td>0.519750</td>\n",
       "      <td>precision    recall  f1-score   ...</td>\n",
       "      <td>[[324, 3], [5, 2]]</td>\n",
       "    </tr>\n",
       "    <tr>\n",
       "      <th>3</th>\n",
       "      <td>kartashoffv/vashkontrol-sentiment-rubert</td>\n",
       "      <td>0.916168</td>\n",
       "      <td>0.222222</td>\n",
       "      <td>0.940324</td>\n",
       "      <td>0.588959</td>\n",
       "      <td>precision    recall  f1-score   ...</td>\n",
       "      <td>[[302, 25], [3, 4]]</td>\n",
       "    </tr>\n",
       "    <tr>\n",
       "      <th>4</th>\n",
       "      <td>tabularisai/multilingual-sentiment-analysis</td>\n",
       "      <td>0.853293</td>\n",
       "      <td>0.140351</td>\n",
       "      <td>0.903468</td>\n",
       "      <td>0.530077</td>\n",
       "      <td>precision    recall  f1-score   ...</td>\n",
       "      <td>[[281, 46], [3, 4]]</td>\n",
       "    </tr>\n",
       "    <tr>\n",
       "      <th>5</th>\n",
       "      <td>blanchefort/rubert-base-cased-sentiment-rurewiews</td>\n",
       "      <td>0.796407</td>\n",
       "      <td>0.128205</td>\n",
       "      <td>0.868890</td>\n",
       "      <td>0.506475</td>\n",
       "      <td>precision    recall  f1-score   ...</td>\n",
       "      <td>[[261, 66], [2, 5]]</td>\n",
       "    </tr>\n",
       "    <tr>\n",
       "      <th>6</th>\n",
       "      <td>blanchefort/rubert-base-cased-sentiment</td>\n",
       "      <td>0.428144</td>\n",
       "      <td>0.073394</td>\n",
       "      <td>0.474088</td>\n",
       "      <td>0.360002</td>\n",
       "      <td>precision    recall  f1-score   ...</td>\n",
       "      <td>[[229, 98], [3, 4]]</td>\n",
       "    </tr>\n",
       "    <tr>\n",
       "      <th>7</th>\n",
       "      <td>MonoHime/rubert_conversational_cased_sentiment</td>\n",
       "      <td>0.838323</td>\n",
       "      <td>0.035714</td>\n",
       "      <td>0.893404</td>\n",
       "      <td>0.473739</td>\n",
       "      <td>precision    recall  f1-score   ...</td>\n",
       "      <td>[[279, 48], [6, 1]]</td>\n",
       "    </tr>\n",
       "    <tr>\n",
       "      <th>8</th>\n",
       "      <td>rajora/distilbert-multilingual-sentiment</td>\n",
       "      <td>0.772455</td>\n",
       "      <td>0.025641</td>\n",
       "      <td>0.853465</td>\n",
       "      <td>0.448414</td>\n",
       "      <td>precision    recall  f1-score   ...</td>\n",
       "      <td>[[257, 70], [6, 1]]</td>\n",
       "    </tr>\n",
       "    <tr>\n",
       "      <th>9</th>\n",
       "      <td>sismetanin/mbart_ru_sum_gazeta-ru-sentiment-ru...</td>\n",
       "      <td>0.194611</td>\n",
       "      <td>0.014652</td>\n",
       "      <td>0.312609</td>\n",
       "      <td>0.166820</td>\n",
       "      <td>precision    recall  f1-score   ...</td>\n",
       "      <td>[[63, 264], [5, 2]]</td>\n",
       "    </tr>\n",
       "    <tr>\n",
       "      <th>10</th>\n",
       "      <td>sismetanin/rubert-ru-sentiment-rureviews</td>\n",
       "      <td>0.224551</td>\n",
       "      <td>0.007663</td>\n",
       "      <td>0.356176</td>\n",
       "      <td>0.185650</td>\n",
       "      <td>precision    recall  f1-score   ...</td>\n",
       "      <td>[[74, 253], [6, 1]]</td>\n",
       "    </tr>\n",
       "    <tr>\n",
       "      <th>11</th>\n",
       "      <td>cointegrated/rubert-tiny-sentiment-balanced</td>\n",
       "      <td>0.131737</td>\n",
       "      <td>0.000000</td>\n",
       "      <td>0.148553</td>\n",
       "      <td>0.107584</td>\n",
       "      <td>precision    recall  f1-score   ...</td>\n",
       "      <td>[[205, 122], [7, 0]]</td>\n",
       "    </tr>\n",
       "  </tbody>\n",
       "</table>\n",
       "</div>"
      ],
      "text/plain": [
       "                                                model  accuracy        f1  \\\n",
       "0           sismetanin/sbert-ru-sentiment-rusentiment  0.979042  0.533333   \n",
       "1   sismetanin/mbart_ru_sum_gazeta-ru-sentiment-ru...  0.976048  0.428571   \n",
       "2                seara/rubert-tiny2-russian-sentiment  0.610778  0.333333   \n",
       "3            kartashoffv/vashkontrol-sentiment-rubert  0.916168  0.222222   \n",
       "4         tabularisai/multilingual-sentiment-analysis  0.853293  0.140351   \n",
       "5   blanchefort/rubert-base-cased-sentiment-rurewiews  0.796407  0.128205   \n",
       "6             blanchefort/rubert-base-cased-sentiment  0.428144  0.073394   \n",
       "7      MonoHime/rubert_conversational_cased_sentiment  0.838323  0.035714   \n",
       "8            rajora/distilbert-multilingual-sentiment  0.772455  0.025641   \n",
       "9   sismetanin/mbart_ru_sum_gazeta-ru-sentiment-ru...  0.194611  0.014652   \n",
       "10           sismetanin/rubert-ru-sentiment-rureviews  0.224551  0.007663   \n",
       "11        cointegrated/rubert-tiny-sentiment-balanced  0.131737  0.000000   \n",
       "\n",
       "    f1_weighted  f1_macro                              classification_report  \\\n",
       "0      0.979724  0.761307                precision    recall  f1-score   ...   \n",
       "1      0.976048  0.708170                precision    recall  f1-score   ...   \n",
       "2      0.617717  0.519750                precision    recall  f1-score   ...   \n",
       "3      0.940324  0.588959                precision    recall  f1-score   ...   \n",
       "4      0.903468  0.530077                precision    recall  f1-score   ...   \n",
       "5      0.868890  0.506475                precision    recall  f1-score   ...   \n",
       "6      0.474088  0.360002                precision    recall  f1-score   ...   \n",
       "7      0.893404  0.473739                precision    recall  f1-score   ...   \n",
       "8      0.853465  0.448414                precision    recall  f1-score   ...   \n",
       "9      0.312609  0.166820                precision    recall  f1-score   ...   \n",
       "10     0.356176  0.185650                precision    recall  f1-score   ...   \n",
       "11     0.148553  0.107584                precision    recall  f1-score   ...   \n",
       "\n",
       "        confusion_matrix  \n",
       "0     [[323, 4], [3, 4]]  \n",
       "1     [[323, 4], [4, 3]]  \n",
       "2     [[324, 3], [5, 2]]  \n",
       "3    [[302, 25], [3, 4]]  \n",
       "4    [[281, 46], [3, 4]]  \n",
       "5    [[261, 66], [2, 5]]  \n",
       "6    [[229, 98], [3, 4]]  \n",
       "7    [[279, 48], [6, 1]]  \n",
       "8    [[257, 70], [6, 1]]  \n",
       "9    [[63, 264], [5, 2]]  \n",
       "10   [[74, 253], [6, 1]]  \n",
       "11  [[205, 122], [7, 0]]  "
      ]
     },
     "execution_count": 4,
     "metadata": {},
     "output_type": "execute_result"
    }
   ],
   "source": [
    "# Лучшие модели на датасете сообщений о МРИЯ с телеграм по метрике f1\n",
    "df[df['dataset'] == 'tg_messages_mriya'].sort_values('f1', ascending=False).drop('dataset', axis=1).reset_index(drop=True)"
   ]
  },
  {
   "cell_type": "code",
   "execution_count": null,
   "metadata": {},
   "outputs": [
    {
     "data": {
      "application/vnd.microsoft.datawrangler.viewer.v0+json": {
       "columns": [
        {
         "name": "index",
         "rawType": "int64",
         "type": "integer"
        },
        {
         "name": "model",
         "rawType": "object",
         "type": "string"
        },
        {
         "name": "accuracy",
         "rawType": "float64",
         "type": "float"
        },
        {
         "name": "f1",
         "rawType": "float64",
         "type": "float"
        },
        {
         "name": "f1_weighted",
         "rawType": "float64",
         "type": "float"
        },
        {
         "name": "f1_macro",
         "rawType": "float64",
         "type": "float"
        },
        {
         "name": "classification_report",
         "rawType": "object",
         "type": "string"
        },
        {
         "name": "confusion_matrix",
         "rawType": "object",
         "type": "string"
        }
       ],
       "conversionMethod": "pd.DataFrame",
       "ref": "bf70980b-c3c7-41f9-9c60-a472129f3a66",
       "rows": [
        [
         "0",
         "sismetanin/sbert-ru-sentiment-rusentiment",
         "0.9791566458233124",
         "0.9183211862276952",
         "0.9793064648262128",
         "0.9531876459698354",
         "              precision    recall  f1-score   support\n\n           0       0.99      0.99      0.99     27273\n           1       0.90      0.93      0.92      3912\n\n    accuracy                           0.98     31185\n   macro avg       0.95      0.96      0.95     31185\nweighted avg       0.98      0.98      0.98     31185\n",
         "[[26881, 392], [258, 3654]]"
        ],
        [
         "1",
         "sismetanin/mbart_ru_sum_gazeta-ru-sentiment-rusentiment",
         "0.9701459034792368",
         "0.8840453356582388",
         "0.9704707156174622",
         "0.9334563919048634",
         "              precision    recall  f1-score   support\n\n           0       0.99      0.98      0.98     27273\n           1       0.86      0.91      0.88      3912\n\n    accuracy                           0.97     31185\n   macro avg       0.92      0.94      0.93     31185\nweighted avg       0.97      0.97      0.97     31185\n",
         "[[26705, 568], [363, 3549]]"
        ],
        [
         "2",
         "seara/rubert-tiny2-russian-sentiment",
         "0.6914542247875581",
         "0.5844667598830559",
         "0.7006457128889788",
         "0.6507672568539155",
         "              precision    recall  f1-score   support\n\n           0       0.85      0.67      0.75     20627\n           1       0.50      0.82      0.62      6646\n           2       0.58      0.59      0.58      3912\n\n    accuracy                           0.69     31185\n   macro avg       0.64      0.69      0.65     31185\nweighted avg       0.74      0.69      0.70     31185\n",
         "[[25617, 1656], [1613, 2299]]"
        ],
        [
         "3",
         "blanchefort/rubert-base-cased-sentiment",
         "0.6521725188391855",
         "0.577715928937114",
         "0.6672909795733531",
         "0.6259025797844731",
         "              precision    recall  f1-score   support\n\n           0       0.92      0.58      0.71     20627\n           1       0.48      0.77      0.59      6646\n           2       0.44      0.85      0.58      3912\n\n    accuracy                           0.65     31185\n   macro avg       0.61      0.73      0.63     31185\nweighted avg       0.76      0.65      0.67     31185\n",
         "[[23009, 4264], [591, 3321]]"
        ],
        [
         "4",
         "blanchefort/rubert-base-cased-sentiment-rurewiews",
         "0.6285714285714286",
         "0.3693580878749931",
         "0.6906782451739902",
         "0.5530630177574634",
         "              precision    recall  f1-score   support\n\n           0       0.97      0.59      0.74     27273\n           1       0.23      0.87      0.37      3912\n\n    accuracy                           0.63     31185\n   macro avg       0.60      0.73      0.55     31185\nweighted avg       0.88      0.63      0.69     31185\n",
         "[[16210, 11063], [520, 3392]]"
        ],
        [
         "5",
         "kartashoffv/vashkontrol-sentiment-rubert",
         "0.8217732884399551",
         "0.3207039843559032",
         "0.8250836673220341",
         "0.6090675749638083",
         "              precision    recall  f1-score   support\n\n           0       0.90      0.89      0.90     27273\n           1       0.31      0.34      0.32      3912\n\n    accuracy                           0.82     31185\n   macro avg       0.61      0.61      0.61     31185\nweighted avg       0.83      0.82      0.83     31185\n",
         "[[24315, 2958], [2600, 1312]]"
        ],
        [
         "6",
         "tabularisai/multilingual-sentiment-analysis",
         "0.680647747314414",
         "0.2960344949459249",
         "0.7310782388791437",
         "0.5447573922171716",
         "              precision    recall  f1-score   support\n\n           0       0.91      0.70      0.79     27273\n           1       0.20      0.54      0.30      3912\n\n    accuracy                           0.68     31185\n   macro avg       0.56      0.62      0.54     31185\nweighted avg       0.82      0.68      0.73     31185\n",
         "[[19132, 8141], [1818, 2094]]"
        ],
        [
         "7",
         "MonoHime/rubert_conversational_cased_sentiment",
         "0.1355138688472021",
         "0.2237770291670265",
         "0.049588297924755",
         "0.1241899726681039",
         "              precision    recall  f1-score   support\n\n           0       0.93      0.01      0.02     27273\n           1       0.13      0.99      0.22      3912\n\n    accuracy                           0.14     31185\n   macro avg       0.53      0.50      0.12     31185\nweighted avg       0.83      0.14      0.05     31185\n",
         "[[340, 26933], [26, 3886]]"
        ],
        [
         "8",
         "rajora/distilbert-multilingual-sentiment",
         "0.5682860349527016",
         "0.1228744543618476",
         "0.6395674229271423",
         "0.4182777877815066",
         "              precision    recall  f1-score   support\n\n           0       0.85      0.62      0.71     27273\n           1       0.08      0.24      0.12      3912\n\n    accuracy                           0.57     31185\n   macro avg       0.47      0.43      0.42     31185\nweighted avg       0.75      0.57      0.64     31185\n",
         "[[16779, 10494], [2969, 943]]"
        ],
        [
         "9",
         "sismetanin/rubert-ru-sentiment-rureviews",
         "0.4546095879429213",
         "0.0546909737661182",
         "0.5462399558943777",
         "0.3357190052930821",
         "              precision    recall  f1-score   support\n\n           0       0.80      0.50      0.62     27273\n           1       0.03      0.13      0.05      3912\n\n    accuracy                           0.45     31185\n   macro avg       0.42      0.31      0.34     31185\nweighted avg       0.70      0.45      0.55     31185\n",
         "[[13685, 13588], [3420, 492]]"
        ],
        [
         "10",
         "sismetanin/mbart_ru_sum_gazeta-ru-sentiment-rureviews",
         "0.4618887285553952",
         "0.037731521302827",
         "0.5526561619028266",
         "0.3321238675263995",
         "              precision    recall  f1-score   support\n\n           0       0.80      0.52      0.63     27273\n           1       0.02      0.08      0.04      3912\n\n    accuracy                           0.46     31185\n   macro avg       0.41      0.30      0.33     31185\nweighted avg       0.70      0.46      0.55     31185\n",
         "[[14075, 13198], [3583, 329]]"
        ],
        [
         "11",
         "cointegrated/rubert-tiny-sentiment-balanced",
         "0.1526695526695526",
         "0.0267618198037466",
         "0.1993026359308606",
         "0.1245391920788173",
         "              precision    recall  f1-score   support\n\n           0       0.50      0.19      0.27     20627\n           1       0.06      0.10      0.07      6646\n           2       0.02      0.05      0.03      3912\n\n    accuracy                           0.15     31185\n   macro avg       0.19      0.11      0.12     31185\nweighted avg       0.34      0.15      0.20     31185\n",
         "[[15701, 11672], [3702, 210]]"
        ]
       ],
       "shape": {
        "columns": 7,
        "rows": 12
       }
      },
      "text/html": [
       "<div>\n",
       "<style scoped>\n",
       "    .dataframe tbody tr th:only-of-type {\n",
       "        vertical-align: middle;\n",
       "    }\n",
       "\n",
       "    .dataframe tbody tr th {\n",
       "        vertical-align: top;\n",
       "    }\n",
       "\n",
       "    .dataframe thead th {\n",
       "        text-align: right;\n",
       "    }\n",
       "</style>\n",
       "<table border=\"1\" class=\"dataframe\">\n",
       "  <thead>\n",
       "    <tr style=\"text-align: right;\">\n",
       "      <th></th>\n",
       "      <th>model</th>\n",
       "      <th>accuracy</th>\n",
       "      <th>f1</th>\n",
       "      <th>f1_weighted</th>\n",
       "      <th>f1_macro</th>\n",
       "      <th>classification_report</th>\n",
       "      <th>confusion_matrix</th>\n",
       "    </tr>\n",
       "  </thead>\n",
       "  <tbody>\n",
       "    <tr>\n",
       "      <th>0</th>\n",
       "      <td>sismetanin/sbert-ru-sentiment-rusentiment</td>\n",
       "      <td>0.979157</td>\n",
       "      <td>0.918321</td>\n",
       "      <td>0.979306</td>\n",
       "      <td>0.953188</td>\n",
       "      <td>precision    recall  f1-score   ...</td>\n",
       "      <td>[[26881, 392], [258, 3654]]</td>\n",
       "    </tr>\n",
       "    <tr>\n",
       "      <th>1</th>\n",
       "      <td>sismetanin/mbart_ru_sum_gazeta-ru-sentiment-ru...</td>\n",
       "      <td>0.970146</td>\n",
       "      <td>0.884045</td>\n",
       "      <td>0.970471</td>\n",
       "      <td>0.933456</td>\n",
       "      <td>precision    recall  f1-score   ...</td>\n",
       "      <td>[[26705, 568], [363, 3549]]</td>\n",
       "    </tr>\n",
       "    <tr>\n",
       "      <th>2</th>\n",
       "      <td>seara/rubert-tiny2-russian-sentiment</td>\n",
       "      <td>0.691454</td>\n",
       "      <td>0.584467</td>\n",
       "      <td>0.700646</td>\n",
       "      <td>0.650767</td>\n",
       "      <td>precision    recall  f1-score   ...</td>\n",
       "      <td>[[25617, 1656], [1613, 2299]]</td>\n",
       "    </tr>\n",
       "    <tr>\n",
       "      <th>3</th>\n",
       "      <td>blanchefort/rubert-base-cased-sentiment</td>\n",
       "      <td>0.652173</td>\n",
       "      <td>0.577716</td>\n",
       "      <td>0.667291</td>\n",
       "      <td>0.625903</td>\n",
       "      <td>precision    recall  f1-score   ...</td>\n",
       "      <td>[[23009, 4264], [591, 3321]]</td>\n",
       "    </tr>\n",
       "    <tr>\n",
       "      <th>4</th>\n",
       "      <td>blanchefort/rubert-base-cased-sentiment-rurewiews</td>\n",
       "      <td>0.628571</td>\n",
       "      <td>0.369358</td>\n",
       "      <td>0.690678</td>\n",
       "      <td>0.553063</td>\n",
       "      <td>precision    recall  f1-score   ...</td>\n",
       "      <td>[[16210, 11063], [520, 3392]]</td>\n",
       "    </tr>\n",
       "    <tr>\n",
       "      <th>5</th>\n",
       "      <td>kartashoffv/vashkontrol-sentiment-rubert</td>\n",
       "      <td>0.821773</td>\n",
       "      <td>0.320704</td>\n",
       "      <td>0.825084</td>\n",
       "      <td>0.609068</td>\n",
       "      <td>precision    recall  f1-score   ...</td>\n",
       "      <td>[[24315, 2958], [2600, 1312]]</td>\n",
       "    </tr>\n",
       "    <tr>\n",
       "      <th>6</th>\n",
       "      <td>tabularisai/multilingual-sentiment-analysis</td>\n",
       "      <td>0.680648</td>\n",
       "      <td>0.296034</td>\n",
       "      <td>0.731078</td>\n",
       "      <td>0.544757</td>\n",
       "      <td>precision    recall  f1-score   ...</td>\n",
       "      <td>[[19132, 8141], [1818, 2094]]</td>\n",
       "    </tr>\n",
       "    <tr>\n",
       "      <th>7</th>\n",
       "      <td>MonoHime/rubert_conversational_cased_sentiment</td>\n",
       "      <td>0.135514</td>\n",
       "      <td>0.223777</td>\n",
       "      <td>0.049588</td>\n",
       "      <td>0.124190</td>\n",
       "      <td>precision    recall  f1-score   ...</td>\n",
       "      <td>[[340, 26933], [26, 3886]]</td>\n",
       "    </tr>\n",
       "    <tr>\n",
       "      <th>8</th>\n",
       "      <td>rajora/distilbert-multilingual-sentiment</td>\n",
       "      <td>0.568286</td>\n",
       "      <td>0.122874</td>\n",
       "      <td>0.639567</td>\n",
       "      <td>0.418278</td>\n",
       "      <td>precision    recall  f1-score   ...</td>\n",
       "      <td>[[16779, 10494], [2969, 943]]</td>\n",
       "    </tr>\n",
       "    <tr>\n",
       "      <th>9</th>\n",
       "      <td>sismetanin/rubert-ru-sentiment-rureviews</td>\n",
       "      <td>0.454610</td>\n",
       "      <td>0.054691</td>\n",
       "      <td>0.546240</td>\n",
       "      <td>0.335719</td>\n",
       "      <td>precision    recall  f1-score   ...</td>\n",
       "      <td>[[13685, 13588], [3420, 492]]</td>\n",
       "    </tr>\n",
       "    <tr>\n",
       "      <th>10</th>\n",
       "      <td>sismetanin/mbart_ru_sum_gazeta-ru-sentiment-ru...</td>\n",
       "      <td>0.461889</td>\n",
       "      <td>0.037732</td>\n",
       "      <td>0.552656</td>\n",
       "      <td>0.332124</td>\n",
       "      <td>precision    recall  f1-score   ...</td>\n",
       "      <td>[[14075, 13198], [3583, 329]]</td>\n",
       "    </tr>\n",
       "    <tr>\n",
       "      <th>11</th>\n",
       "      <td>cointegrated/rubert-tiny-sentiment-balanced</td>\n",
       "      <td>0.152670</td>\n",
       "      <td>0.026762</td>\n",
       "      <td>0.199303</td>\n",
       "      <td>0.124539</td>\n",
       "      <td>precision    recall  f1-score   ...</td>\n",
       "      <td>[[15701, 11672], [3702, 210]]</td>\n",
       "    </tr>\n",
       "  </tbody>\n",
       "</table>\n",
       "</div>"
      ],
      "text/plain": [
       "                                                model  accuracy        f1  \\\n",
       "0           sismetanin/sbert-ru-sentiment-rusentiment  0.979157  0.918321   \n",
       "1   sismetanin/mbart_ru_sum_gazeta-ru-sentiment-ru...  0.970146  0.884045   \n",
       "2                seara/rubert-tiny2-russian-sentiment  0.691454  0.584467   \n",
       "3             blanchefort/rubert-base-cased-sentiment  0.652173  0.577716   \n",
       "4   blanchefort/rubert-base-cased-sentiment-rurewiews  0.628571  0.369358   \n",
       "5            kartashoffv/vashkontrol-sentiment-rubert  0.821773  0.320704   \n",
       "6         tabularisai/multilingual-sentiment-analysis  0.680648  0.296034   \n",
       "7      MonoHime/rubert_conversational_cased_sentiment  0.135514  0.223777   \n",
       "8            rajora/distilbert-multilingual-sentiment  0.568286  0.122874   \n",
       "9            sismetanin/rubert-ru-sentiment-rureviews  0.454610  0.054691   \n",
       "10  sismetanin/mbart_ru_sum_gazeta-ru-sentiment-ru...  0.461889  0.037732   \n",
       "11        cointegrated/rubert-tiny-sentiment-balanced  0.152670  0.026762   \n",
       "\n",
       "    f1_weighted  f1_macro                              classification_report  \\\n",
       "0      0.979306  0.953188                precision    recall  f1-score   ...   \n",
       "1      0.970471  0.933456                precision    recall  f1-score   ...   \n",
       "2      0.700646  0.650767                precision    recall  f1-score   ...   \n",
       "3      0.667291  0.625903                precision    recall  f1-score   ...   \n",
       "4      0.690678  0.553063                precision    recall  f1-score   ...   \n",
       "5      0.825084  0.609068                precision    recall  f1-score   ...   \n",
       "6      0.731078  0.544757                precision    recall  f1-score   ...   \n",
       "7      0.049588  0.124190                precision    recall  f1-score   ...   \n",
       "8      0.639567  0.418278                precision    recall  f1-score   ...   \n",
       "9      0.546240  0.335719                precision    recall  f1-score   ...   \n",
       "10     0.552656  0.332124                precision    recall  f1-score   ...   \n",
       "11     0.199303  0.124539                precision    recall  f1-score   ...   \n",
       "\n",
       "                 confusion_matrix  \n",
       "0     [[26881, 392], [258, 3654]]  \n",
       "1     [[26705, 568], [363, 3549]]  \n",
       "2   [[25617, 1656], [1613, 2299]]  \n",
       "3    [[23009, 4264], [591, 3321]]  \n",
       "4   [[16210, 11063], [520, 3392]]  \n",
       "5   [[24315, 2958], [2600, 1312]]  \n",
       "6   [[19132, 8141], [1818, 2094]]  \n",
       "7      [[340, 26933], [26, 3886]]  \n",
       "8   [[16779, 10494], [2969, 943]]  \n",
       "9   [[13685, 13588], [3420, 492]]  \n",
       "10  [[14075, 13198], [3583, 329]]  \n",
       "11  [[15701, 11672], [3702, 210]]  "
      ]
     },
     "execution_count": 3,
     "metadata": {},
     "output_type": "execute_result"
    }
   ],
   "source": [
    "# Лучшие модели на датасете RuSentiment по метрике f1\n",
    "df[df['dataset'] == 'rusentiment'].sort_values('f1', ascending=False).drop('dataset', axis=1).reset_index(drop=True)"
   ]
  },
  {
   "cell_type": "code",
   "execution_count": null,
   "metadata": {},
   "outputs": [
    {
     "data": {
      "application/vnd.microsoft.datawrangler.viewer.v0+json": {
       "columns": [
        {
         "name": "index",
         "rawType": "int64",
         "type": "integer"
        },
        {
         "name": "dataset",
         "rawType": "object",
         "type": "string"
        },
        {
         "name": "model",
         "rawType": "object",
         "type": "string"
        },
        {
         "name": "f1",
         "rawType": "float64",
         "type": "float"
        }
       ],
       "conversionMethod": "pd.DataFrame",
       "ref": "949eb460-fa65-4d84-8086-ec22c66e0b36",
       "rows": [
        [
         "0",
         "ru_sentiment_monohime",
         "sismetanin/mbart_ru_sum_gazeta-ru-sentiment-rusentiment",
         "0.633515853813829"
        ],
        [
         "1",
         "rureviews",
         "seara/rubert-tiny2-russian-sentiment",
         "0.7627410109431995"
        ],
        [
         "2",
         "rusentiment",
         "sismetanin/sbert-ru-sentiment-rusentiment",
         "0.9183211862276952"
        ],
        [
         "3",
         "rutweetcorp",
         "sismetanin/sbert-ru-sentiment-rusentiment",
         "0.8370188370188371"
        ],
        [
         "4",
         "sentiment_of_bank_reviews",
         "seara/rubert-tiny2-russian-sentiment",
         "0.8366624525916561"
        ],
        [
         "5",
         "tg_messages_mriya",
         "sismetanin/sbert-ru-sentiment-rusentiment",
         "0.5333333333333333"
        ]
       ],
       "shape": {
        "columns": 3,
        "rows": 6
       }
      },
      "text/html": [
       "<div>\n",
       "<style scoped>\n",
       "    .dataframe tbody tr th:only-of-type {\n",
       "        vertical-align: middle;\n",
       "    }\n",
       "\n",
       "    .dataframe tbody tr th {\n",
       "        vertical-align: top;\n",
       "    }\n",
       "\n",
       "    .dataframe thead th {\n",
       "        text-align: right;\n",
       "    }\n",
       "</style>\n",
       "<table border=\"1\" class=\"dataframe\">\n",
       "  <thead>\n",
       "    <tr style=\"text-align: right;\">\n",
       "      <th></th>\n",
       "      <th>dataset</th>\n",
       "      <th>model</th>\n",
       "      <th>f1</th>\n",
       "    </tr>\n",
       "  </thead>\n",
       "  <tbody>\n",
       "    <tr>\n",
       "      <th>0</th>\n",
       "      <td>ru_sentiment_monohime</td>\n",
       "      <td>sismetanin/mbart_ru_sum_gazeta-ru-sentiment-ru...</td>\n",
       "      <td>0.633516</td>\n",
       "    </tr>\n",
       "    <tr>\n",
       "      <th>1</th>\n",
       "      <td>rureviews</td>\n",
       "      <td>seara/rubert-tiny2-russian-sentiment</td>\n",
       "      <td>0.762741</td>\n",
       "    </tr>\n",
       "    <tr>\n",
       "      <th>2</th>\n",
       "      <td>rusentiment</td>\n",
       "      <td>sismetanin/sbert-ru-sentiment-rusentiment</td>\n",
       "      <td>0.918321</td>\n",
       "    </tr>\n",
       "    <tr>\n",
       "      <th>3</th>\n",
       "      <td>rutweetcorp</td>\n",
       "      <td>sismetanin/sbert-ru-sentiment-rusentiment</td>\n",
       "      <td>0.837019</td>\n",
       "    </tr>\n",
       "    <tr>\n",
       "      <th>4</th>\n",
       "      <td>sentiment_of_bank_reviews</td>\n",
       "      <td>seara/rubert-tiny2-russian-sentiment</td>\n",
       "      <td>0.836662</td>\n",
       "    </tr>\n",
       "    <tr>\n",
       "      <th>5</th>\n",
       "      <td>tg_messages_mriya</td>\n",
       "      <td>sismetanin/sbert-ru-sentiment-rusentiment</td>\n",
       "      <td>0.533333</td>\n",
       "    </tr>\n",
       "  </tbody>\n",
       "</table>\n",
       "</div>"
      ],
      "text/plain": [
       "                     dataset  \\\n",
       "0      ru_sentiment_monohime   \n",
       "1                  rureviews   \n",
       "2                rusentiment   \n",
       "3                rutweetcorp   \n",
       "4  sentiment_of_bank_reviews   \n",
       "5          tg_messages_mriya   \n",
       "\n",
       "                                               model        f1  \n",
       "0  sismetanin/mbart_ru_sum_gazeta-ru-sentiment-ru...  0.633516  \n",
       "1               seara/rubert-tiny2-russian-sentiment  0.762741  \n",
       "2          sismetanin/sbert-ru-sentiment-rusentiment  0.918321  \n",
       "3          sismetanin/sbert-ru-sentiment-rusentiment  0.837019  \n",
       "4               seara/rubert-tiny2-russian-sentiment  0.836662  \n",
       "5          sismetanin/sbert-ru-sentiment-rusentiment  0.533333  "
      ]
     },
     "execution_count": 6,
     "metadata": {},
     "output_type": "execute_result"
    }
   ],
   "source": [
    "# Лучшие модели на каждом датасете по f1\n",
    "df.loc[df.groupby('dataset')['f1'].idxmax(), ['dataset', 'model', 'f1']].reset_index(drop=True)"
   ]
  },
  {
   "cell_type": "code",
   "execution_count": null,
   "metadata": {},
   "outputs": [
    {
     "data": {
      "application/vnd.microsoft.datawrangler.viewer.v0+json": {
       "columns": [
        {
         "name": "index",
         "rawType": "int64",
         "type": "integer"
        },
        {
         "name": "model",
         "rawType": "object",
         "type": "string"
        },
        {
         "name": "dataset",
         "rawType": "object",
         "type": "string"
        },
        {
         "name": "accuracy",
         "rawType": "float64",
         "type": "float"
        },
        {
         "name": "f1",
         "rawType": "float64",
         "type": "float"
        },
        {
         "name": "f1_weighted",
         "rawType": "float64",
         "type": "float"
        },
        {
         "name": "f1_macro",
         "rawType": "float64",
         "type": "float"
        },
        {
         "name": "classification_report",
         "rawType": "object",
         "type": "string"
        },
        {
         "name": "confusion_matrix",
         "rawType": "object",
         "type": "string"
        },
        {
         "name": "summetric",
         "rawType": "float64",
         "type": "float"
        }
       ],
       "conversionMethod": "pd.DataFrame",
       "ref": "2e7c503c-2524-4d90-ae05-6ae086ebd8df",
       "rows": [
        [
         "0",
         "blanchefort/rubert-base-cased-sentiment",
         "tg_messages_mriya",
         "0.4281437125748503",
         "0.073394495412844",
         "0.4740880776498843",
         "0.3600022933400832",
         "              precision    recall  f1-score   support\n\n           0       0.83      0.31      0.45       227\n           1       0.47      0.69      0.56       100\n           2       0.04      0.57      0.07         7\n\n    accuracy                           0.43       334\n   macro avg       0.45      0.52      0.36       334\nweighted avg       0.71      0.43      0.47       334\n",
         "[[229, 98], [3, 4]]",
         "0.33390714474441546"
        ],
        [
         "1",
         "blanchefort/rubert-base-cased-sentiment",
         "sentiment_of_bank_reviews",
         "0.1881562968783484",
         "0.0",
         "0.1616859904429707",
         "0.1077829609624355",
         "              precision    recall  f1-score   support\n\n           0       0.00      0.00      0.00         0\n           1       0.28      0.38      0.32      7000\n           2       0.00      0.00      0.00      6999\n\n    accuracy                           0.19     13999\n   macro avg       0.09      0.13      0.11     13999\nweighted avg       0.14      0.19      0.16     13999\n",
         "[[7000, 0], [6999, 0]]",
         "0.11440631207093864"
        ],
        [
         "2",
         "blanchefort/rubert-base-cased-sentiment",
         "rutweetcorp",
         "0.0044349612491954",
         "0.0",
         "0.0044758201340771",
         "0.0029450855714227",
         "              precision    recall  f1-score   support\n\n           0       0.00      0.00      0.00         0\n           1       0.01      0.01      0.01    114911\n           2       0.00      0.00      0.00    111923\n\n    accuracy                           0.00    226834\n   macro avg       0.00      0.00      0.00    226834\nweighted avg       0.00      0.00      0.00    226834\n",
         "[[114911, 0], [111923, 0]]",
         "0.0029639667386738002"
        ],
        [
         "3",
         "blanchefort/rubert-base-cased-sentiment",
         "rureviews",
         "0.7646",
         "0.7584980343319685",
         "0.764956151775636",
         "0.7584980343319684",
         "              precision    recall  f1-score   support\n\n           0       0.74      0.54      0.62     20000\n           1       0.90      0.88      0.89     20000\n           2       0.68      0.88      0.76     20000\n\n    accuracy                           0.76     60000\n   macro avg       0.77      0.76      0.76     60000\nweighted avg       0.77      0.76      0.76     60000\n",
         "[[31552, 8448], [2380, 17620]]",
         "0.7616380551098932"
        ],
        [
         "4",
         "blanchefort/rubert-base-cased-sentiment",
         "rusentiment",
         "0.6521725188391855",
         "0.577715928937114",
         "0.6672909795733531",
         "0.6259025797844731",
         "              precision    recall  f1-score   support\n\n           0       0.92      0.58      0.71     20627\n           1       0.48      0.77      0.59      6646\n           2       0.44      0.85      0.58      3912\n\n    accuracy                           0.65     31185\n   macro avg       0.61      0.73      0.63     31185\nweighted avg       0.76      0.65      0.67     31185\n",
         "[[23009, 4264], [591, 3321]]",
         "0.6307705017835314"
        ],
        [
         "5",
         "blanchefort/rubert-base-cased-sentiment",
         "ru_sentiment_monohime",
         "0.6092166666666666",
         "0.5911614730878186",
         "0.5818094746798939",
         "0.5413672987330722",
         "              precision    recall  f1-score   support\n\n           0       0.52      0.22      0.31     15608\n           1       0.67      0.79      0.73     28663\n           2       0.53      0.66      0.59     15729\n\n    accuracy                           0.61     60000\n   macro avg       0.57      0.56      0.54     60000\nweighted avg       0.59      0.61      0.58     60000\n",
         "[[34684, 9137], [5295 10434]]",
         "0.5808887282918629"
        ],
        [
         "6",
         "seara/rubert-tiny2-russian-sentiment",
         "tg_messages_mriya",
         "0.6107784431137725",
         "0.3333333333333333",
         "0.6177167595128832",
         "0.5197504416131092",
         "              precision    recall  f1-score   support\n\n           0       0.86      0.51      0.64       227\n           1       0.44      0.86      0.59       100\n           2       0.40      0.29      0.33         7\n\n    accuracy                           0.61       334\n   macro avg       0.57      0.55      0.52       334\nweighted avg       0.73      0.61      0.62       334\n",
         "[[324, 3], [5, 2]]",
         "0.5203947443932746"
        ],
        [
         "7",
         "seara/rubert-tiny2-russian-sentiment",
         "sentiment_of_bank_reviews",
         "0.8154153868133438",
         "0.8366624525916561",
         "0.8122365270787335",
         "0.8122382717876987",
         "              precision    recall  f1-score   support\n\n           0       0.93      0.69      0.79      7000\n           1       0.75      0.95      0.84      6999\n\n    accuracy                           0.82     13999\n   macro avg       0.84      0.82      0.81     13999\nweighted avg       0.84      0.82      0.81     13999\n",
         "[[4797, 2203], [381, 6618]]",
         "0.8191381595678581"
        ],
        [
         "8",
         "seara/rubert-tiny2-russian-sentiment",
         "rutweetcorp",
         "0.8081666666666667",
         "0.8197845556460199",
         "0.8072025797489402",
         "0.8073660895525048",
         "              precision    recall  f1-score   support\n\n           0       0.87      0.73      0.79     30395\n           1       0.76      0.88      0.82     29605\n\n    accuracy                           0.81     60000\n   macro avg       0.82      0.81      0.81     60000\nweighted avg       0.82      0.81      0.81     60000\n",
         "[[22311, 8084], [3426, 26179]]",
         "0.8106299729035329"
        ],
        [
         "9",
         "seara/rubert-tiny2-russian-sentiment",
         "rureviews",
         "0.7902833333333333",
         "0.7627410109431995",
         "0.7926101575915719",
         "0.7926101575915719",
         "              precision    recall  f1-score   support\n\n           0       0.67      0.76      0.71     20000\n           1       0.93      0.88      0.90     20000\n           2       0.80      0.73      0.76     20000\n\n    accuracy                           0.79     60000\n   macro avg       0.80      0.79      0.79     60000\nweighted avg       0.80      0.79      0.79     60000\n",
         "[[36257, 3743], [5363, 14637]]",
         "0.7845611648649192"
        ],
        [
         "10",
         "seara/rubert-tiny2-russian-sentiment",
         "rusentiment",
         "0.6914542247875581",
         "0.5844667598830559",
         "0.7006457128889788",
         "0.6507672568539155",
         "              precision    recall  f1-score   support\n\n           0       0.85      0.67      0.75     20627\n           1       0.50      0.82      0.62      6646\n           2       0.58      0.59      0.58      3912\n\n    accuracy                           0.69     31185\n   macro avg       0.64      0.69      0.65     31185\nweighted avg       0.74      0.69      0.70     31185\n",
         "[[25617, 1656], [1613, 2299]]",
         "0.6568334886033771"
        ],
        [
         "11",
         "seara/rubert-tiny2-russian-sentiment",
         "ru_sentiment_monohime",
         "0.6045666666666667",
         "0.5614471533158006",
         "0.6058567150645415",
         "0.5741356888358937",
         "              precision    recall  f1-score   support\n\n           0       0.41      0.48      0.44     15608\n           1       0.71      0.73      0.72     28663\n           2       0.64      0.50      0.56     15729\n\n    accuracy                           0.60     60000\n   macro avg       0.59      0.57      0.57     60000\nweighted avg       0.61      0.60      0.61     60000\n",
         "[[39761, 4510], [7830, 7899]]",
         "0.5865015559707256"
        ],
        [
         "12",
         "cointegrated/rubert-tiny-sentiment-balanced",
         "tg_messages_mriya",
         "0.1317365269461078",
         "0.0",
         "0.1485529149428604",
         "0.1075843604302266",
         "              precision    recall  f1-score   support\n\n           0       0.77      0.07      0.14       227\n           1       0.14      0.27      0.19       100\n           2       0.00      0.00      0.00         7\n\n    accuracy                           0.13       334\n   macro avg       0.30      0.11      0.11       334\nweighted avg       0.57      0.13      0.15       334\n",
         "[[205, 122], [7, 0]]",
         "0.09696845057979869"
        ],
        [
         "13",
         "cointegrated/rubert-tiny-sentiment-balanced",
         "sentiment_of_bank_reviews",
         "0.3365240374312451",
         "0.0547526969265214",
         "0.2718338529394056",
         "0.2718183471425475",
         "              precision    recall  f1-score   support\n\n           0       0.40      0.63      0.49      7000\n           1       0.10      0.04      0.05      6999\n\n    accuracy                           0.34     13999\n   macro avg       0.25      0.34      0.27     13999\nweighted avg       0.25      0.34      0.27     13999\n",
         "[[4442, 2558], [6730, 269]]",
         "0.2337322336099299"
        ],
        [
         "14",
         "cointegrated/rubert-tiny-sentiment-balanced",
         "rutweetcorp",
         "0.0891666666666666",
         "0.1500248849073037",
         "0.0836100657408466",
         "0.0844731634072638",
         "              precision    recall  f1-score   support\n\n           0       0.02      0.02      0.02     30395\n           1       0.14      0.16      0.15     29605\n\n    accuracy                           0.09     60000\n   macro avg       0.08      0.09      0.08     60000\nweighted avg       0.08      0.09      0.08     60000\n",
         "[[527, 29868], [24782, 4823]]",
         "0.10181869518052018"
        ],
        [
         "15",
         "cointegrated/rubert-tiny-sentiment-balanced",
         "rureviews",
         "0.1449333333333333",
         "0.0167833607907742",
         "0.1422079584497986",
         "0.1422079584497986",
         "              precision    recall  f1-score   support\n\n           0       0.27      0.28      0.27     20000\n           1       0.14      0.13      0.14     20000\n           2       0.02      0.02      0.02     20000\n\n    accuracy                           0.14     60000\n   macro avg       0.14      0.14      0.14     60000\nweighted avg       0.14      0.14      0.14     60000\n",
         "[[21478, 18522] [191674, 326]]",
         "0.11153315275592618"
        ],
        [
         "16",
         "cointegrated/rubert-tiny-sentiment-balanced",
         "rusentiment",
         "0.1526695526695526",
         "0.0267618198037466",
         "0.1993026359308606",
         "0.1245391920788173",
         "              precision    recall  f1-score   support\n\n           0       0.50      0.19      0.27     20627\n           1       0.06      0.10      0.07      6646\n           2       0.02      0.05      0.03      3912\n\n    accuracy                           0.15     31185\n   macro avg       0.19      0.11      0.12     31185\nweighted avg       0.34      0.15      0.20     31185\n",
         "[[15701, 11672], [3702, 210]]",
         "0.12581830012074427"
        ],
        [
         "17",
         "cointegrated/rubert-tiny-sentiment-balanced",
         "ru_sentiment_monohime",
         "0.2115666666666666",
         "0.159709696813536",
         "0.2217613838765285",
         "0.2167102275787438",
         "              precision    recall  f1-score   support\n\n           0       0.25      0.25      0.25     15608\n           1       0.37      0.18      0.24     28663\n           2       0.12      0.24      0.16     15729\n\n    accuracy                           0.21     60000\n   macro avg       0.25      0.22      0.22     60000\nweighted avg       0.27      0.21      0.22     60000\n",
         "[[17147, 27124], [12010, 3719]]",
         "0.20243699373386873"
        ],
        [
         "18",
         "MonoHime/rubert_conversational_cased_sentiment",
         "tg_messages_mriya",
         "0.8383233532934131",
         "0.0357142857142857",
         "0.8934043677351179",
         "0.4737394957983193",
         "              precision    recall  f1-score   support\n\n           0       0.98      0.85      0.91       327\n           1       0.02      0.14      0.04         7\n\n    accuracy                           0.84       334\n   macro avg       0.50      0.50      0.47       334\nweighted avg       0.96      0.84      0.89       334\n",
         "[[279, 48], [6, 1]]",
         "0.560295375635284"
        ],
        [
         "19",
         "MonoHime/rubert_conversational_cased_sentiment",
         "sentiment_of_bank_reviews",
         "0.5001071505107507",
         "0.0062482249360976",
         "0.3361787917448943",
         "0.3361552252758366",
         "              precision    recall  f1-score   support\n\n           0       0.50      1.00      0.67      7000\n           1       0.51      0.00      0.01      6999\n\n    accuracy                           0.50     13999\n   macro avg       0.51      0.50      0.34     13999\nweighted avg       0.51      0.50      0.34     13999\n",
         "[[6979, 21], [6977, 22]]",
         "0.2946723481168948"
        ],
        [
         "20",
         "MonoHime/rubert_conversational_cased_sentiment",
         "rutweetcorp",
         "0.4768666666666666",
         "0.5140725144750287",
         "0.4732512408174767",
         "0.473781736066522",
         "              precision    recall  f1-score   support\n\n           0       0.48      0.40      0.43     30395\n           1       0.47      0.56      0.51     29605\n\n    accuracy                           0.48     60000\n   macro avg       0.48      0.48      0.47     60000\nweighted avg       0.48      0.48      0.47     60000\n",
         "[[12009, 18386], [13002, 16603]]",
         "0.4844930395064235"
        ],
        [
         "21",
         "MonoHime/rubert_conversational_cased_sentiment",
         "rureviews",
         "0.4135333333333333",
         "0.4451942482341069",
         "0.4004248549920628",
         "0.4116172033025738",
         "              precision    recall  f1-score   support\n\n           0       0.65      0.27      0.38     40000\n           1       0.33      0.71      0.45     20000\n\n    accuracy                           0.41     60000\n   macro avg       0.49      0.49      0.41     60000\nweighted avg       0.54      0.41      0.40     60000\n",
         "[[10694, 29306], [5882, 14118]]",
         "0.4176924099655192"
        ],
        [
         "22",
         "MonoHime/rubert_conversational_cased_sentiment",
         "rusentiment",
         "0.1355138688472021",
         "0.2237770291670265",
         "0.049588297924755",
         "0.1241899726681039",
         "              precision    recall  f1-score   support\n\n           0       0.93      0.01      0.02     27273\n           1       0.13      0.99      0.22      3912\n\n    accuracy                           0.14     31185\n   macro avg       0.53      0.50      0.12     31185\nweighted avg       0.83      0.14      0.05     31185\n",
         "[[340, 26933], [26, 3886]]",
         "0.13326729215177188"
        ],
        [
         "23",
         "MonoHime/rubert_conversational_cased_sentiment",
         "ru_sentiment_monohime",
         "0.28535",
         "0.4204992364142554",
         "0.1604000408442116",
         "0.244244445081299",
         "              precision    recall  f1-score   support\n\n           0       0.90      0.04      0.07     44271\n           1       0.27      0.99      0.42     15729\n\n    accuracy                           0.29     60000\n   macro avg       0.58      0.51      0.24     60000\nweighted avg       0.73      0.29      0.16     60000\n",
         "[[1564, 42707], [172, 15557]]",
         "0.27762343058494154"
        ],
        [
         "24",
         "sismetanin/rubert-ru-sentiment-rureviews",
         "tg_messages_mriya",
         "0.2245508982035928",
         "0.0076628352490421",
         "0.3561758405863299",
         "0.1856495994427029",
         "              precision    recall  f1-score   support\n\n           0       0.93      0.23      0.36       327\n           1       0.00      0.14      0.01         7\n\n    accuracy                           0.22       334\n   macro avg       0.46      0.18      0.19       334\nweighted avg       0.91      0.22      0.36       334\n",
         "[[74, 253], [6, 1]]",
         "0.19350979337041693"
        ],
        [
         "25",
         "sismetanin/rubert-ru-sentiment-rureviews",
         "sentiment_of_bank_reviews",
         "0.2863775983998857",
         "0.0101070154577883",
         "0.2261121624023523",
         "0.2260967334632848",
         "              precision    recall  f1-score   support\n\n           0       0.36      0.57      0.44      7000\n           1       0.02      0.01      0.01      6999\n\n    accuracy                           0.29     13999\n   macro avg       0.19      0.29      0.23     13999\nweighted avg       0.19      0.29      0.23     13999\n",
         "[[3958, 3042], [6948, 51]]",
         "0.1871733774308278"
        ],
        [
         "26",
         "sismetanin/rubert-ru-sentiment-rureviews",
         "rutweetcorp",
         "0.2775166666666667",
         "0.1247046945986875",
         "0.2565165396786797",
         "0.2548035711375843",
         "              precision    recall  f1-score   support\n\n           0       0.34      0.45      0.38     30395\n           1       0.16      0.10      0.12     29605\n\n    accuracy                           0.28     60000\n   macro avg       0.25      0.28      0.25     60000\nweighted avg       0.25      0.28      0.26     60000\n",
         "[[13563, 16832], [26517, 3088]]",
         "0.22838536802040454"
        ],
        [
         "27",
         "sismetanin/rubert-ru-sentiment-rureviews",
         "rureviews",
         "0.3198333333333333",
         "0.0079249319330999",
         "0.3243262317913201",
         "0.245225906826765",
         "              precision    recall  f1-score   support\n\n           0       0.49      0.48      0.48     40000\n           1       0.01      0.01      0.01     20000\n\n    accuracy                           0.32     60000\n   macro avg       0.25      0.24      0.25     60000\nweighted avg       0.33      0.32      0.32     60000\n",
         "[[19027, 20973], [19837, 163]]",
         "0.22432760097112958"
        ],
        [
         "28",
         "sismetanin/rubert-ru-sentiment-rureviews",
         "rusentiment",
         "0.4546095879429213",
         "0.0546909737661182",
         "0.5462399558943777",
         "0.3357190052930821",
         "              precision    recall  f1-score   support\n\n           0       0.80      0.50      0.62     27273\n           1       0.03      0.13      0.05      3912\n\n    accuracy                           0.45     31185\n   macro avg       0.42      0.31      0.34     31185\nweighted avg       0.70      0.45      0.55     31185\n",
         "[[13685, 13588], [3420, 492]]",
         "0.3478148807241248"
        ],
        [
         "29",
         "sismetanin/rubert-ru-sentiment-rureviews",
         "ru_sentiment_monohime",
         "0.33635",
         "0.1340118744698897",
         "0.3760500310335696",
         "0.2980277019169859",
         "              precision    recall  f1-score   support\n\n           0       0.57      0.39      0.46     44271\n           1       0.10      0.20      0.13     15729\n\n    accuracy                           0.34     60000\n   macro avg       0.34      0.29      0.30     60000\nweighted avg       0.45      0.34      0.38     60000\n",
         "[[17100, 27171], [12648, 3081]]",
         "0.2861099018551113"
        ],
        [
         "30",
         "blanchefort/rubert-base-cased-sentiment-rurewiews",
         "tg_messages_mriya",
         "0.7964071856287425",
         "0.1282051282051282",
         "0.8688901206713041",
         "0.5064754454584963",
         "              precision    recall  f1-score   support\n\n           0       0.99      0.80      0.88       327\n           1       0.07      0.71      0.13         7\n\n    accuracy                           0.80       334\n   macro avg       0.53      0.76      0.51       334\nweighted avg       0.97      0.80      0.87       334\n",
         "[[261, 66], [2, 5]]",
         "0.5749944699909177"
        ],
        [
         "31",
         "blanchefort/rubert-base-cased-sentiment-rurewiews",
         "sentiment_of_bank_reviews",
         "0.6997642688763483",
         "0.7686464468541861",
         "0.6705536290645686",
         "0.6705606356944107",
         "              precision    recall  f1-score   support\n\n           0       0.99      0.40      0.57      7000\n           1       0.63      1.00      0.77      6999\n\n    accuracy                           0.70     13999\n   macro avg       0.81      0.70      0.67     13999\nweighted avg       0.81      0.70      0.67     13999\n",
         "[[2814, 4186], [17, 6982]]",
         "0.7023812451223785"
        ],
        [
         "32",
         "blanchefort/rubert-base-cased-sentiment-rurewiews",
         "rutweetcorp",
         "0.73985",
         "0.7651757909464278",
         "0.7364146552698163",
         "0.7367884222904533",
         "              precision    recall  f1-score   support\n\n           0       0.82      0.62      0.71     30395\n           1       0.69      0.86      0.77     29605\n\n    accuracy                           0.74     60000\n   macro avg       0.75      0.74      0.74     60000\nweighted avg       0.76      0.74      0.74     60000\n",
         "[[18960, 11435], [4174, 25431]]",
         "0.7445572171266743"
        ],
        [
         "33",
         "blanchefort/rubert-base-cased-sentiment-rurewiews",
         "rureviews",
         "0.78525",
         "0.7472686974089402",
         "0.791294143419123",
         "0.7802877819165772",
         "              precision    recall  f1-score   support\n\n           0       0.97      0.70      0.81     40000\n           1       0.61      0.95      0.75     20000\n\n    accuracy                           0.79     60000\n   macro avg       0.79      0.83      0.78     60000\nweighted avg       0.85      0.79      0.79     60000\n",
         "[[28066, 11934], [951, 19049]]",
         "0.7760251556861602"
        ],
        [
         "34",
         "blanchefort/rubert-base-cased-sentiment-rurewiews",
         "rusentiment",
         "0.6285714285714286",
         "0.3693580878749931",
         "0.6906782451739902",
         "0.5530630177574634",
         "              precision    recall  f1-score   support\n\n           0       0.97      0.59      0.74     27273\n           1       0.23      0.87      0.37      3912\n\n    accuracy                           0.63     31185\n   macro avg       0.60      0.73      0.55     31185\nweighted avg       0.88      0.63      0.69     31185\n",
         "[[16210, 11063], [520, 3392]]",
         "0.5604176948444688"
        ],
        [
         "35",
         "blanchefort/rubert-base-cased-sentiment-rurewiews",
         "ru_sentiment_monohime",
         "0.7268166666666667",
         "0.5975594785042598",
         "0.7419337131458793",
         "0.6953938856612834",
         "              precision    recall  f1-score   support\n\n           0       0.90      0.71      0.79     44271\n           1       0.49      0.77      0.60     15729\n\n    accuracy                           0.73     60000\n   macro avg       0.69      0.74      0.70     60000\nweighted avg       0.79      0.73      0.74     60000\n",
         "[[31440, 12831], [3560, 12169]]",
         "0.6904259359945222"
        ],
        [
         "36",
         "rajora/distilbert-multilingual-sentiment",
         "tg_messages_mriya",
         "0.7724550898203593",
         "0.0256410256410256",
         "0.8534654289855752",
         "0.4484137331594959",
         "              precision    recall  f1-score   support\n\n           0       0.98      0.79      0.87       327\n           1       0.01      0.14      0.03         7\n\n    accuracy                           0.77       334\n   macro avg       0.50      0.46      0.45       334\nweighted avg       0.96      0.77      0.85       334\n",
         "[[257, 70], [6, 1]]",
         "0.5249938194016139"
        ],
        [
         "37",
         "rajora/distilbert-multilingual-sentiment",
         "sentiment_of_bank_reviews",
         "0.4779627116222587",
         "0.0232558139534883",
         "0.3335451767611889",
         "0.3335230132352741",
         "              precision    recall  f1-score   support\n\n           0       0.49      0.94      0.64      7000\n           1       0.18      0.01      0.02      6999\n\n    accuracy                           0.48     13999\n   macro avg       0.33      0.48      0.33     13999\nweighted avg       0.33      0.48      0.33     13999\n",
         "[[6604, 396], [6912, 87]]",
         "0.2920716788930525"
        ],
        [
         "38",
         "rajora/distilbert-multilingual-sentiment",
         "rutweetcorp",
         "0.4295833333333333",
         "0.2315723298682054",
         "0.3910863689167884",
         "0.3890133948939495",
         "              precision    recall  f1-score   support\n\n           0       0.46      0.68      0.55     30395\n           1       0.35      0.17      0.23     29605\n\n    accuracy                           0.43     60000\n   macro avg       0.40      0.43      0.39     60000\nweighted avg       0.40      0.43      0.39     60000\n",
         "[[20618, 9777], [24448, 5157]]",
         "0.36031385675306915"
        ],
        [
         "39",
         "rajora/distilbert-multilingual-sentiment",
         "rureviews",
         "0.5338",
         "0.1201560140915953",
         "0.4953092753907107",
         "0.4015209600659319",
         "              precision    recall  f1-score   support\n\n           0       0.62      0.75      0.68     40000\n           1       0.16      0.10      0.12     20000\n\n    accuracy                           0.53     60000\n   macro avg       0.39      0.42      0.40     60000\nweighted avg       0.47      0.53      0.50     60000\n",
         "[[30118, 9882], [18090, 1910]]",
         "0.38769656238705946"
        ],
        [
         "40",
         "rajora/distilbert-multilingual-sentiment",
         "rusentiment",
         "0.5682860349527016",
         "0.1228744543618476",
         "0.6395674229271423",
         "0.4182777877815066",
         "              precision    recall  f1-score   support\n\n           0       0.85      0.62      0.71     27273\n           1       0.08      0.24      0.12      3912\n\n    accuracy                           0.57     31185\n   macro avg       0.47      0.43      0.42     31185\nweighted avg       0.75      0.57      0.64     31185\n",
         "[[16779, 10494], [2969, 943]]",
         "0.4372514250057995"
        ],
        [
         "41",
         "rajora/distilbert-multilingual-sentiment",
         "ru_sentiment_monohime",
         "0.66705",
         "0.1217742999076801",
         "0.6182093819881731",
         "0.4581808067047886",
         "              precision    recall  f1-score   support\n\n           0       0.73      0.87      0.79     44271\n           1       0.20      0.09      0.12     15729\n\n    accuracy                           0.67     60000\n   macro avg       0.46      0.48      0.46     60000\nweighted avg       0.59      0.67      0.62     60000\n",
         "[[38638, 5633], [14344, 1385]]",
         "0.46630362215016047"
        ],
        [
         "42",
         "sismetanin/mbart_ru_sum_gazeta-ru-sentiment-rusentiment",
         "tg_messages_mriya",
         "0.9760479041916168",
         "0.4285714285714285",
         "0.9760479041916168",
         "0.7081695063346439",
         "              precision    recall  f1-score   support\n\n           0       0.99      0.99      0.99       327\n           1       0.43      0.43      0.43         7\n\n    accuracy                           0.98       334\n   macro avg       0.71      0.71      0.71       334\nweighted avg       0.98      0.98      0.98       334\n",
         "[[323, 4], [4, 3]]",
         "0.7722091858223264"
        ],
        [
         "43",
         "sismetanin/mbart_ru_sum_gazeta-ru-sentiment-rusentiment",
         "sentiment_of_bank_reviews",
         "0.6888349167797699",
         "0.5859315589353612",
         "0.6683578668551302",
         "0.6683519792617074",
         "              precision    recall  f1-score   support\n\n           0       0.63      0.94      0.75      7000\n           1       0.88      0.44      0.59      6999\n\n    accuracy                           0.69     13999\n   macro avg       0.75      0.69      0.67     13999\nweighted avg       0.75      0.69      0.67     13999\n",
         "[[6561, 439], [3917, 3082]]",
         "0.6528690804579922"
        ],
        [
         "44",
         "sismetanin/mbart_ru_sum_gazeta-ru-sentiment-rusentiment",
         "rutweetcorp",
         "0.8361666666666666",
         "0.8114401902861965",
         "0.8335879255836678",
         "0.8333001033944096",
         "              precision    recall  f1-score   support\n\n           0       0.77      0.95      0.86     30395\n           1       0.94      0.71      0.81     29605\n\n    accuracy                           0.84     60000\n   macro avg       0.86      0.83      0.83     60000\nweighted avg       0.86      0.84      0.83     60000\n",
         "[[29019, 1376], [8454, 21151]]",
         "0.8286237214827352"
        ],
        [
         "45",
         "sismetanin/mbart_ru_sum_gazeta-ru-sentiment-rusentiment",
         "rureviews",
         "0.7519166666666667",
         "0.6317143776133805",
         "0.7525465041261142",
         "0.7223384724979307",
         "              precision    recall  f1-score   support\n\n           0       0.82      0.81      0.81     40000\n           1       0.63      0.64      0.63     20000\n\n    accuracy                           0.75     60000\n   macro avg       0.72      0.72      0.72     60000\nweighted avg       0.75      0.75      0.75     60000\n",
         "[[32349, 7651], [7234, 12766]]",
         "0.714629005226023"
        ],
        [
         "46",
         "sismetanin/mbart_ru_sum_gazeta-ru-sentiment-rusentiment",
         "rusentiment",
         "0.9701459034792368",
         "0.8840453356582388",
         "0.9704707156174622",
         "0.9334563919048634",
         "              precision    recall  f1-score   support\n\n           0       0.99      0.98      0.98     27273\n           1       0.86      0.91      0.88      3912\n\n    accuracy                           0.97     31185\n   macro avg       0.92      0.94      0.93     31185\nweighted avg       0.97      0.97      0.97     31185\n",
         "[[26705, 568], [363, 3549]]",
         "0.9395295866649503"
        ],
        [
         "47",
         "sismetanin/mbart_ru_sum_gazeta-ru-sentiment-rusentiment",
         "ru_sentiment_monohime",
         "0.8081333333333334",
         "0.633515853813829",
         "0.8080426618647608",
         "0.7517829867344306",
         "              precision    recall  f1-score   support\n\n           0       0.87      0.87      0.87     44271\n           1       0.63      0.63      0.63     15729\n\n    accuracy                           0.81     60000\n   macro avg       0.75      0.75      0.75     60000\nweighted avg       0.81      0.81      0.81     60000\n",
         "[[38538, 5733], [5779, 9950]]",
         "0.7503687089365885"
        ],
        [
         "48",
         "sismetanin/mbart_ru_sum_gazeta-ru-sentiment-rureviews",
         "tg_messages_mriya",
         "0.1946107784431137",
         "0.0146520146520146",
         "0.3126090564732269",
         "0.1668196782120833",
         "              precision    recall  f1-score   support\n\n           0       0.93      0.19      0.32       327\n           1       0.01      0.29      0.01         7\n\n    accuracy                           0.19       334\n   macro avg       0.47      0.24      0.17       334\nweighted avg       0.91      0.19      0.31       334\n",
         "[[63, 264], [5, 2]]",
         "0.17217288194510963"
        ],
        [
         "49",
         "sismetanin/mbart_ru_sum_gazeta-ru-sentiment-rureviews",
         "sentiment_of_bank_reviews",
         "0.1595113936709765",
         "0.0104289318755256",
         "0.1400014713053935",
         "0.1399922161240057",
         "              precision    recall  f1-score   support\n\n           0       0.24      0.31      0.27      7000\n           1       0.01      0.01      0.01      6999\n\n    accuracy                           0.16     13999\n   macro avg       0.13      0.16      0.14     13999\nweighted avg       0.13      0.16      0.14     13999\n",
         "[[2171, 4829], [6937, 62]]",
         "0.11248350324397532"
        ]
       ],
       "shape": {
        "columns": 9,
        "rows": 72
       }
      },
      "text/html": [
       "<div>\n",
       "<style scoped>\n",
       "    .dataframe tbody tr th:only-of-type {\n",
       "        vertical-align: middle;\n",
       "    }\n",
       "\n",
       "    .dataframe tbody tr th {\n",
       "        vertical-align: top;\n",
       "    }\n",
       "\n",
       "    .dataframe thead th {\n",
       "        text-align: right;\n",
       "    }\n",
       "</style>\n",
       "<table border=\"1\" class=\"dataframe\">\n",
       "  <thead>\n",
       "    <tr style=\"text-align: right;\">\n",
       "      <th></th>\n",
       "      <th>model</th>\n",
       "      <th>dataset</th>\n",
       "      <th>accuracy</th>\n",
       "      <th>f1</th>\n",
       "      <th>f1_weighted</th>\n",
       "      <th>f1_macro</th>\n",
       "      <th>classification_report</th>\n",
       "      <th>confusion_matrix</th>\n",
       "      <th>summetric</th>\n",
       "    </tr>\n",
       "  </thead>\n",
       "  <tbody>\n",
       "    <tr>\n",
       "      <th>0</th>\n",
       "      <td>blanchefort/rubert-base-cased-sentiment</td>\n",
       "      <td>tg_messages_mriya</td>\n",
       "      <td>0.428144</td>\n",
       "      <td>0.073394</td>\n",
       "      <td>0.474088</td>\n",
       "      <td>0.360002</td>\n",
       "      <td>precision    recall  f1-score   ...</td>\n",
       "      <td>[[229, 98], [3, 4]]</td>\n",
       "      <td>0.333907</td>\n",
       "    </tr>\n",
       "    <tr>\n",
       "      <th>1</th>\n",
       "      <td>blanchefort/rubert-base-cased-sentiment</td>\n",
       "      <td>sentiment_of_bank_reviews</td>\n",
       "      <td>0.188156</td>\n",
       "      <td>0.000000</td>\n",
       "      <td>0.161686</td>\n",
       "      <td>0.107783</td>\n",
       "      <td>precision    recall  f1-score   ...</td>\n",
       "      <td>[[7000, 0], [6999, 0]]</td>\n",
       "      <td>0.114406</td>\n",
       "    </tr>\n",
       "    <tr>\n",
       "      <th>2</th>\n",
       "      <td>blanchefort/rubert-base-cased-sentiment</td>\n",
       "      <td>rutweetcorp</td>\n",
       "      <td>0.004435</td>\n",
       "      <td>0.000000</td>\n",
       "      <td>0.004476</td>\n",
       "      <td>0.002945</td>\n",
       "      <td>precision    recall  f1-score   ...</td>\n",
       "      <td>[[114911, 0], [111923, 0]]</td>\n",
       "      <td>0.002964</td>\n",
       "    </tr>\n",
       "    <tr>\n",
       "      <th>3</th>\n",
       "      <td>blanchefort/rubert-base-cased-sentiment</td>\n",
       "      <td>rureviews</td>\n",
       "      <td>0.764600</td>\n",
       "      <td>0.758498</td>\n",
       "      <td>0.764956</td>\n",
       "      <td>0.758498</td>\n",
       "      <td>precision    recall  f1-score   ...</td>\n",
       "      <td>[[31552, 8448], [2380, 17620]]</td>\n",
       "      <td>0.761638</td>\n",
       "    </tr>\n",
       "    <tr>\n",
       "      <th>4</th>\n",
       "      <td>blanchefort/rubert-base-cased-sentiment</td>\n",
       "      <td>rusentiment</td>\n",
       "      <td>0.652173</td>\n",
       "      <td>0.577716</td>\n",
       "      <td>0.667291</td>\n",
       "      <td>0.625903</td>\n",
       "      <td>precision    recall  f1-score   ...</td>\n",
       "      <td>[[23009, 4264], [591, 3321]]</td>\n",
       "      <td>0.630771</td>\n",
       "    </tr>\n",
       "    <tr>\n",
       "      <th>...</th>\n",
       "      <td>...</td>\n",
       "      <td>...</td>\n",
       "      <td>...</td>\n",
       "      <td>...</td>\n",
       "      <td>...</td>\n",
       "      <td>...</td>\n",
       "      <td>...</td>\n",
       "      <td>...</td>\n",
       "      <td>...</td>\n",
       "    </tr>\n",
       "    <tr>\n",
       "      <th>67</th>\n",
       "      <td>sismetanin/sbert-ru-sentiment-rusentiment</td>\n",
       "      <td>sentiment_of_bank_reviews</td>\n",
       "      <td>0.762126</td>\n",
       "      <td>0.705934</td>\n",
       "      <td>0.753114</td>\n",
       "      <td>0.753111</td>\n",
       "      <td>precision    recall  f1-score   ...</td>\n",
       "      <td>[[6672, 328], [3002, 3997]]</td>\n",
       "      <td>0.743571</td>\n",
       "    </tr>\n",
       "    <tr>\n",
       "      <th>68</th>\n",
       "      <td>sismetanin/sbert-ru-sentiment-rusentiment</td>\n",
       "      <td>rutweetcorp</td>\n",
       "      <td>0.854067</td>\n",
       "      <td>0.837019</td>\n",
       "      <td>0.852656</td>\n",
       "      <td>0.852452</td>\n",
       "      <td>precision    recall  f1-score   ...</td>\n",
       "      <td>[[28760, 1635], [7121, 22484]]</td>\n",
       "      <td>0.849048</td>\n",
       "    </tr>\n",
       "    <tr>\n",
       "      <th>69</th>\n",
       "      <td>sismetanin/sbert-ru-sentiment-rusentiment</td>\n",
       "      <td>rureviews</td>\n",
       "      <td>0.763200</td>\n",
       "      <td>0.615668</td>\n",
       "      <td>0.757813</td>\n",
       "      <td>0.722276</td>\n",
       "      <td>precision    recall  f1-score   ...</td>\n",
       "      <td>[[34412, 5588], [8620, 11380]]</td>\n",
       "      <td>0.714739</td>\n",
       "    </tr>\n",
       "    <tr>\n",
       "      <th>70</th>\n",
       "      <td>sismetanin/sbert-ru-sentiment-rusentiment</td>\n",
       "      <td>rusentiment</td>\n",
       "      <td>0.979157</td>\n",
       "      <td>0.918321</td>\n",
       "      <td>0.979306</td>\n",
       "      <td>0.953188</td>\n",
       "      <td>precision    recall  f1-score   ...</td>\n",
       "      <td>[[26881, 392], [258, 3654]]</td>\n",
       "      <td>0.957493</td>\n",
       "    </tr>\n",
       "    <tr>\n",
       "      <th>71</th>\n",
       "      <td>sismetanin/sbert-ru-sentiment-rusentiment</td>\n",
       "      <td>ru_sentiment_monohime</td>\n",
       "      <td>0.809533</td>\n",
       "      <td>0.619270</td>\n",
       "      <td>0.806484</td>\n",
       "      <td>0.746135</td>\n",
       "      <td>precision    recall  f1-score   ...</td>\n",
       "      <td>[[39278, 4993], [6435, 9294]]</td>\n",
       "      <td>0.745356</td>\n",
       "    </tr>\n",
       "  </tbody>\n",
       "</table>\n",
       "<p>72 rows × 9 columns</p>\n",
       "</div>"
      ],
      "text/plain": [
       "                                        model                    dataset  \\\n",
       "0     blanchefort/rubert-base-cased-sentiment          tg_messages_mriya   \n",
       "1     blanchefort/rubert-base-cased-sentiment  sentiment_of_bank_reviews   \n",
       "2     blanchefort/rubert-base-cased-sentiment                rutweetcorp   \n",
       "3     blanchefort/rubert-base-cased-sentiment                  rureviews   \n",
       "4     blanchefort/rubert-base-cased-sentiment                rusentiment   \n",
       "..                                        ...                        ...   \n",
       "67  sismetanin/sbert-ru-sentiment-rusentiment  sentiment_of_bank_reviews   \n",
       "68  sismetanin/sbert-ru-sentiment-rusentiment                rutweetcorp   \n",
       "69  sismetanin/sbert-ru-sentiment-rusentiment                  rureviews   \n",
       "70  sismetanin/sbert-ru-sentiment-rusentiment                rusentiment   \n",
       "71  sismetanin/sbert-ru-sentiment-rusentiment      ru_sentiment_monohime   \n",
       "\n",
       "    accuracy        f1  f1_weighted  f1_macro  \\\n",
       "0   0.428144  0.073394     0.474088  0.360002   \n",
       "1   0.188156  0.000000     0.161686  0.107783   \n",
       "2   0.004435  0.000000     0.004476  0.002945   \n",
       "3   0.764600  0.758498     0.764956  0.758498   \n",
       "4   0.652173  0.577716     0.667291  0.625903   \n",
       "..       ...       ...          ...       ...   \n",
       "67  0.762126  0.705934     0.753114  0.753111   \n",
       "68  0.854067  0.837019     0.852656  0.852452   \n",
       "69  0.763200  0.615668     0.757813  0.722276   \n",
       "70  0.979157  0.918321     0.979306  0.953188   \n",
       "71  0.809533  0.619270     0.806484  0.746135   \n",
       "\n",
       "                                classification_report  \\\n",
       "0                 precision    recall  f1-score   ...   \n",
       "1                 precision    recall  f1-score   ...   \n",
       "2                 precision    recall  f1-score   ...   \n",
       "3                 precision    recall  f1-score   ...   \n",
       "4                 precision    recall  f1-score   ...   \n",
       "..                                                ...   \n",
       "67                precision    recall  f1-score   ...   \n",
       "68                precision    recall  f1-score   ...   \n",
       "69                precision    recall  f1-score   ...   \n",
       "70                precision    recall  f1-score   ...   \n",
       "71                precision    recall  f1-score   ...   \n",
       "\n",
       "                  confusion_matrix  summetric  \n",
       "0              [[229, 98], [3, 4]]   0.333907  \n",
       "1           [[7000, 0], [6999, 0]]   0.114406  \n",
       "2       [[114911, 0], [111923, 0]]   0.002964  \n",
       "3   [[31552, 8448], [2380, 17620]]   0.761638  \n",
       "4     [[23009, 4264], [591, 3321]]   0.630771  \n",
       "..                             ...        ...  \n",
       "67     [[6672, 328], [3002, 3997]]   0.743571  \n",
       "68  [[28760, 1635], [7121, 22484]]   0.849048  \n",
       "69  [[34412, 5588], [8620, 11380]]   0.714739  \n",
       "70     [[26881, 392], [258, 3654]]   0.957493  \n",
       "71   [[39278, 4993], [6435, 9294]]   0.745356  \n",
       "\n",
       "[72 rows x 9 columns]"
      ]
     },
     "execution_count": 7,
     "metadata": {},
     "output_type": "execute_result"
    }
   ],
   "source": [
    "# Вводим усреднённую мертику как среднее всех четырёх\n",
    "df['summetric'] = df[['accuracy', 'f1', 'f1_weighted', 'f1_macro']].sum(axis=1) / 4\n",
    "df"
   ]
  },
  {
   "cell_type": "code",
   "execution_count": null,
   "metadata": {},
   "outputs": [
    {
     "data": {
      "application/vnd.microsoft.datawrangler.viewer.v0+json": {
       "columns": [
        {
         "name": "index",
         "rawType": "int64",
         "type": "integer"
        },
        {
         "name": "model",
         "rawType": "object",
         "type": "string"
        },
        {
         "name": "summetric",
         "rawType": "float64",
         "type": "float"
        }
       ],
       "conversionMethod": "pd.DataFrame",
       "ref": "efabd046-3f18-480a-aa08-7904623a1ac6",
       "rows": [
        [
         "0",
         "sismetanin/sbert-ru-sentiment-rusentiment",
         "0.803926514017467"
        ],
        [
         "1",
         "sismetanin/mbart_ru_sum_gazeta-ru-sentiment-rusentiment",
         "0.776371548098436"
        ],
        [
         "2",
         "seara/rubert-tiny2-russian-sentiment",
         "0.6963431810506145"
        ],
        [
         "3",
         "blanchefort/rubert-base-cased-sentiment-rurewiews",
         "0.6748002864608535"
        ],
        [
         "4",
         "kartashoffv/vashkontrol-sentiment-rubert",
         "0.6668271316953317"
        ],
        [
         "5",
         "tabularisai/multilingual-sentiment-analysis",
         "0.6384642638518776"
        ],
        [
         "6",
         "rajora/distilbert-multilingual-sentiment",
         "0.4114384940984592"
        ],
        [
         "7",
         "blanchefort/rubert-base-cased-sentiment",
         "0.4040957847898859"
        ],
        [
         "8",
         "MonoHime/rubert_conversational_cased_sentiment",
         "0.3613406493268058"
        ],
        [
         "9",
         "sismetanin/rubert-ru-sentiment-rureviews",
         "0.2445534870620025"
        ],
        [
         "10",
         "sismetanin/mbart_ru_sum_gazeta-ru-sentiment-rureviews",
         "0.2236634570622307"
        ],
        [
         "11",
         "cointegrated/rubert-tiny-sentiment-balanced",
         "0.14538463766346466"
        ]
       ],
       "shape": {
        "columns": 2,
        "rows": 12
       }
      },
      "text/html": [
       "<div>\n",
       "<style scoped>\n",
       "    .dataframe tbody tr th:only-of-type {\n",
       "        vertical-align: middle;\n",
       "    }\n",
       "\n",
       "    .dataframe tbody tr th {\n",
       "        vertical-align: top;\n",
       "    }\n",
       "\n",
       "    .dataframe thead th {\n",
       "        text-align: right;\n",
       "    }\n",
       "</style>\n",
       "<table border=\"1\" class=\"dataframe\">\n",
       "  <thead>\n",
       "    <tr style=\"text-align: right;\">\n",
       "      <th></th>\n",
       "      <th>model</th>\n",
       "      <th>summetric</th>\n",
       "    </tr>\n",
       "  </thead>\n",
       "  <tbody>\n",
       "    <tr>\n",
       "      <th>0</th>\n",
       "      <td>sismetanin/sbert-ru-sentiment-rusentiment</td>\n",
       "      <td>0.803927</td>\n",
       "    </tr>\n",
       "    <tr>\n",
       "      <th>1</th>\n",
       "      <td>sismetanin/mbart_ru_sum_gazeta-ru-sentiment-ru...</td>\n",
       "      <td>0.776372</td>\n",
       "    </tr>\n",
       "    <tr>\n",
       "      <th>2</th>\n",
       "      <td>seara/rubert-tiny2-russian-sentiment</td>\n",
       "      <td>0.696343</td>\n",
       "    </tr>\n",
       "    <tr>\n",
       "      <th>3</th>\n",
       "      <td>blanchefort/rubert-base-cased-sentiment-rurewiews</td>\n",
       "      <td>0.674800</td>\n",
       "    </tr>\n",
       "    <tr>\n",
       "      <th>4</th>\n",
       "      <td>kartashoffv/vashkontrol-sentiment-rubert</td>\n",
       "      <td>0.666827</td>\n",
       "    </tr>\n",
       "    <tr>\n",
       "      <th>5</th>\n",
       "      <td>tabularisai/multilingual-sentiment-analysis</td>\n",
       "      <td>0.638464</td>\n",
       "    </tr>\n",
       "    <tr>\n",
       "      <th>6</th>\n",
       "      <td>rajora/distilbert-multilingual-sentiment</td>\n",
       "      <td>0.411438</td>\n",
       "    </tr>\n",
       "    <tr>\n",
       "      <th>7</th>\n",
       "      <td>blanchefort/rubert-base-cased-sentiment</td>\n",
       "      <td>0.404096</td>\n",
       "    </tr>\n",
       "    <tr>\n",
       "      <th>8</th>\n",
       "      <td>MonoHime/rubert_conversational_cased_sentiment</td>\n",
       "      <td>0.361341</td>\n",
       "    </tr>\n",
       "    <tr>\n",
       "      <th>9</th>\n",
       "      <td>sismetanin/rubert-ru-sentiment-rureviews</td>\n",
       "      <td>0.244553</td>\n",
       "    </tr>\n",
       "    <tr>\n",
       "      <th>10</th>\n",
       "      <td>sismetanin/mbart_ru_sum_gazeta-ru-sentiment-ru...</td>\n",
       "      <td>0.223663</td>\n",
       "    </tr>\n",
       "    <tr>\n",
       "      <th>11</th>\n",
       "      <td>cointegrated/rubert-tiny-sentiment-balanced</td>\n",
       "      <td>0.145385</td>\n",
       "    </tr>\n",
       "  </tbody>\n",
       "</table>\n",
       "</div>"
      ],
      "text/plain": [
       "                                                model  summetric\n",
       "0           sismetanin/sbert-ru-sentiment-rusentiment   0.803927\n",
       "1   sismetanin/mbart_ru_sum_gazeta-ru-sentiment-ru...   0.776372\n",
       "2                seara/rubert-tiny2-russian-sentiment   0.696343\n",
       "3   blanchefort/rubert-base-cased-sentiment-rurewiews   0.674800\n",
       "4            kartashoffv/vashkontrol-sentiment-rubert   0.666827\n",
       "5         tabularisai/multilingual-sentiment-analysis   0.638464\n",
       "6            rajora/distilbert-multilingual-sentiment   0.411438\n",
       "7             blanchefort/rubert-base-cased-sentiment   0.404096\n",
       "8      MonoHime/rubert_conversational_cased_sentiment   0.361341\n",
       "9            sismetanin/rubert-ru-sentiment-rureviews   0.244553\n",
       "10  sismetanin/mbart_ru_sum_gazeta-ru-sentiment-ru...   0.223663\n",
       "11        cointegrated/rubert-tiny-sentiment-balanced   0.145385"
      ]
     },
     "execution_count": 8,
     "metadata": {},
     "output_type": "execute_result"
    }
   ],
   "source": [
    "# Лучшие модели по среднему усреднённой метрики на всех датасетах\n",
    "df.groupby('model', as_index=False)['summetric'].mean().sort_values('summetric', ascending=False).reset_index(drop=True)"
   ]
  },
  {
   "cell_type": "code",
   "execution_count": null,
   "metadata": {},
   "outputs": [
    {
     "data": {
      "application/vnd.microsoft.datawrangler.viewer.v0+json": {
       "columns": [
        {
         "name": "index",
         "rawType": "int64",
         "type": "integer"
        },
        {
         "name": "dataset",
         "rawType": "object",
         "type": "string"
        },
        {
         "name": "model",
         "rawType": "object",
         "type": "string"
        },
        {
         "name": "summetric",
         "rawType": "float64",
         "type": "float"
        }
       ],
       "conversionMethod": "pd.DataFrame",
       "ref": "c9d77dea-03f0-491e-ac53-d148542e968a",
       "rows": [
        [
         "0",
         "ru_sentiment_monohime",
         "sismetanin/mbart_ru_sum_gazeta-ru-sentiment-rusentiment",
         "0.7503687089365885"
        ],
        [
         "1",
         "rureviews",
         "seara/rubert-tiny2-russian-sentiment",
         "0.7845611648649192"
        ],
        [
         "2",
         "rusentiment",
         "sismetanin/sbert-ru-sentiment-rusentiment",
         "0.957492985711764"
        ],
        [
         "3",
         "rutweetcorp",
         "sismetanin/sbert-ru-sentiment-rusentiment",
         "0.8490483397834159"
        ],
        [
         "4",
         "sentiment_of_bank_reviews",
         "seara/rubert-tiny2-russian-sentiment",
         "0.8191381595678581"
        ],
        [
         "5",
         "tg_messages_mriya",
         "sismetanin/sbert-ru-sentiment-rusentiment",
         "0.8133516275259588"
        ]
       ],
       "shape": {
        "columns": 3,
        "rows": 6
       }
      },
      "text/html": [
       "<div>\n",
       "<style scoped>\n",
       "    .dataframe tbody tr th:only-of-type {\n",
       "        vertical-align: middle;\n",
       "    }\n",
       "\n",
       "    .dataframe tbody tr th {\n",
       "        vertical-align: top;\n",
       "    }\n",
       "\n",
       "    .dataframe thead th {\n",
       "        text-align: right;\n",
       "    }\n",
       "</style>\n",
       "<table border=\"1\" class=\"dataframe\">\n",
       "  <thead>\n",
       "    <tr style=\"text-align: right;\">\n",
       "      <th></th>\n",
       "      <th>dataset</th>\n",
       "      <th>model</th>\n",
       "      <th>summetric</th>\n",
       "    </tr>\n",
       "  </thead>\n",
       "  <tbody>\n",
       "    <tr>\n",
       "      <th>0</th>\n",
       "      <td>ru_sentiment_monohime</td>\n",
       "      <td>sismetanin/mbart_ru_sum_gazeta-ru-sentiment-ru...</td>\n",
       "      <td>0.750369</td>\n",
       "    </tr>\n",
       "    <tr>\n",
       "      <th>1</th>\n",
       "      <td>rureviews</td>\n",
       "      <td>seara/rubert-tiny2-russian-sentiment</td>\n",
       "      <td>0.784561</td>\n",
       "    </tr>\n",
       "    <tr>\n",
       "      <th>2</th>\n",
       "      <td>rusentiment</td>\n",
       "      <td>sismetanin/sbert-ru-sentiment-rusentiment</td>\n",
       "      <td>0.957493</td>\n",
       "    </tr>\n",
       "    <tr>\n",
       "      <th>3</th>\n",
       "      <td>rutweetcorp</td>\n",
       "      <td>sismetanin/sbert-ru-sentiment-rusentiment</td>\n",
       "      <td>0.849048</td>\n",
       "    </tr>\n",
       "    <tr>\n",
       "      <th>4</th>\n",
       "      <td>sentiment_of_bank_reviews</td>\n",
       "      <td>seara/rubert-tiny2-russian-sentiment</td>\n",
       "      <td>0.819138</td>\n",
       "    </tr>\n",
       "    <tr>\n",
       "      <th>5</th>\n",
       "      <td>tg_messages_mriya</td>\n",
       "      <td>sismetanin/sbert-ru-sentiment-rusentiment</td>\n",
       "      <td>0.813352</td>\n",
       "    </tr>\n",
       "  </tbody>\n",
       "</table>\n",
       "</div>"
      ],
      "text/plain": [
       "                     dataset  \\\n",
       "0      ru_sentiment_monohime   \n",
       "1                  rureviews   \n",
       "2                rusentiment   \n",
       "3                rutweetcorp   \n",
       "4  sentiment_of_bank_reviews   \n",
       "5          tg_messages_mriya   \n",
       "\n",
       "                                               model  summetric  \n",
       "0  sismetanin/mbart_ru_sum_gazeta-ru-sentiment-ru...   0.750369  \n",
       "1               seara/rubert-tiny2-russian-sentiment   0.784561  \n",
       "2          sismetanin/sbert-ru-sentiment-rusentiment   0.957493  \n",
       "3          sismetanin/sbert-ru-sentiment-rusentiment   0.849048  \n",
       "4               seara/rubert-tiny2-russian-sentiment   0.819138  \n",
       "5          sismetanin/sbert-ru-sentiment-rusentiment   0.813352  "
      ]
     },
     "execution_count": 9,
     "metadata": {},
     "output_type": "execute_result"
    }
   ],
   "source": [
    "# Лучшие модели на каждом датасете по усреднённой метрике\n",
    "df.loc[df.groupby('dataset')['summetric'].idxmax(), ['dataset', 'model', 'summetric']].reset_index(drop=True)"
   ]
  }
 ],
 "metadata": {
  "accelerator": "GPU",
  "colab": {
   "authorship_tag": "ABX9TyNAvUuGKptvzT91VUAbLUS7",
   "collapsed_sections": [
    "yboOQ0xeM-3j",
    "aIIUEOoJQR87",
    "tZ4mwuNgRztN",
    "kjOk0lhxSCoR",
    "UIlyN0a8USS8",
    "9O-hpuNVV218",
    "BsZJc9VIXhVE"
   ],
   "gpuType": "T4",
   "provenance": []
  },
  "kaggle": {
   "accelerator": "nvidiaTeslaT4",
   "dataSources": [
    {
     "datasetId": 7179274,
     "sourceId": 11457864,
     "sourceType": "datasetVersion"
    }
   ],
   "dockerImageVersionId": 31012,
   "isGpuEnabled": true,
   "isInternetEnabled": true,
   "language": "python",
   "sourceType": "notebook"
  },
  "kernelspec": {
   "display_name": "Python 3",
   "language": "python",
   "name": "python3"
  },
  "language_info": {
   "codemirror_mode": {
    "name": "ipython",
    "version": 3
   },
   "file_extension": ".py",
   "mimetype": "text/x-python",
   "name": "python",
   "nbconvert_exporter": "python",
   "pygments_lexer": "ipython3",
   "version": "3.10.7"
  }
 },
 "nbformat": 4,
 "nbformat_minor": 4
}
